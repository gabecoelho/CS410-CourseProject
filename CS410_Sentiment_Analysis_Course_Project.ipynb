{
  "nbformat": 4,
  "nbformat_minor": 0,
  "metadata": {
    "colab": {
      "provenance": [],
      "collapsed_sections": [
        "AUvyWrUo_eIT"
      ],
      "include_colab_link": true
    },
    "kernelspec": {
      "name": "python3",
      "display_name": "Python 3"
    },
    "language_info": {
      "name": "python"
    },
    "gpuClass": "standard"
  },
  "cells": [
    {
      "cell_type": "markdown",
      "metadata": {
        "id": "view-in-github",
        "colab_type": "text"
      },
      "source": [
        "<a href=\"https://colab.research.google.com/github/gabecoelho/CS410-CourseProject/blob/main/CS410_Sentiment_Analysis_Course_Project.ipynb\" target=\"_parent\"><img src=\"https://colab.research.google.com/assets/colab-badge.svg\" alt=\"Open In Colab\"/></a>"
      ]
    },
    {
      "cell_type": "markdown",
      "source": [
        "# Yelp Data - Business Review Sentiment Analysis"
      ],
      "metadata": {
        "id": "9uLrTWQ1_DAU"
      }
    },
    {
      "cell_type": "markdown",
      "source": [
        "## 1. Topics to be explored\n",
        "\n",
        "1. Business categories\n",
        "2. Number of stars in reviews\n",
        "3. Number of businesses open and closed\n",
        "4. Sentiment analysis on all reviews"
      ],
      "metadata": {
        "id": "AUvyWrUo_eIT"
      }
    },
    {
      "cell_type": "markdown",
      "source": [
        "## 2. Start by downloading files and importing libraries for reading the data"
      ],
      "metadata": {
        "id": "zXCJ_SNA_KVN"
      }
    },
    {
      "cell_type": "code",
      "source": [
        "# Download files\n",
        "\n",
        "# Business data\n",
        "!wget -q --show-progress --load-cookies /tmp/cookies.txt \"https://docs.google.com/uc?export=download&confirm=$(wget --quiet --save-cookies /tmp/cookies.txt --keep-session-cookies --no-check-certificate 'https://docs.google.com/uc?export=download&id=1vCSG6KgUYo0wpn2_8-tb0YZhMgY4wk1h' -O- | sed -rn 's/.*confirm=([0-9A-Za-z_]+).*/\\1\\n/p')&id=1vCSG6KgUYo0wpn2_8-tb0YZhMgY4wk1h\" -O yelp_businesses.json && rm -rf /tmp/cookies.txt\n",
        "\n",
        "# Reviews data\n",
        "!wget -q --show-progress --load-cookies /tmp/cookies.txt \"https://docs.google.com/uc?export=download&confirm=$(wget --quiet --save-cookies /tmp/cookies.txt --keep-session-cookies --no-check-certificate 'https://docs.google.com/uc?export=download&id=1GuxASYHSWWtGhaCJeh57WCA3RKsjJzaO' -O- | sed -rn 's/.*confirm=([0-9A-Za-z_]+).*/\\1\\n/p')&id=1GuxASYHSWWtGhaCJeh57WCA3RKsjJzaO\" -O yelp_reviews.json && rm -rf /tmp/cookies.txt\n"
      ],
      "metadata": {
        "colab": {
          "base_uri": "https://localhost:8080/"
        },
        "id": "K_9AZteSkBSI",
        "outputId": "8c27da7f-726c-4cd5-e025-fe07930b9c84"
      },
      "execution_count": 1,
      "outputs": [
        {
          "output_type": "stream",
          "name": "stdout",
          "text": [
            "yelp_businesses.jso 100%[===================>] 113.36M   128MB/s    in 0.9s    \n",
            "yelp_reviews.json   100%[===================>]   4.97G   129MB/s    in 53s     \n"
          ]
        }
      ]
    },
    {
      "cell_type": "code",
      "execution_count": 2,
      "metadata": {
        "id": "1osuW9_J3R8V"
      },
      "outputs": [],
      "source": [
        "# General data analysis libraries\n",
        "import pandas as pd\n",
        "import numpy as np\n",
        "import matplotlib.pyplot as plt\n",
        "import seaborn as sns\n",
        "\n",
        "plt.style.use('ggplot')\n",
        "\n",
        "# Reviews data types\n",
        "review_dtypes = {\n",
        "    'stars': np.float16\n",
        "}\n",
        "\n",
        "business_dtypes = {\n",
        "    'is_open': np.bool8\n",
        "}\n",
        "\n",
        "reviews_data = pd.read_json('yelp_reviews.json',\n",
        "                            lines=True,\n",
        "                            chunksize=2000,\n",
        "                            dtype=review_dtypes,\n",
        "                            orient='records')\n",
        "\n",
        "business_df = pd.read_json('yelp_businesses.json',\n",
        "                           lines=True,\n",
        "                           dtype=business_dtypes)\n"
      ]
    },
    {
      "cell_type": "markdown",
      "source": [
        "### Only looking at data from 2018 and beyond"
      ],
      "metadata": {
        "id": "P95SFT6EX58r"
      }
    },
    {
      "cell_type": "code",
      "source": [
        "# Reviews chunk storage\n",
        "reviews_chunks = []\n",
        "\n",
        "for chunk in reviews_data:\n",
        "  # Drop unused columns and start from 2018 onward\n",
        "  min_chunk = chunk.drop(columns=['user_id', 'review_id']).query(\"`date` >= '2018-01-01'\")\n",
        "  reviews_chunks.append(min_chunk)\n",
        "\n",
        "reviews_df = pd.concat(reviews_chunks, ignore_index=True)"
      ],
      "metadata": {
        "id": "QfFK5NI1_cb_"
      },
      "execution_count": 3,
      "outputs": []
    },
    {
      "cell_type": "markdown",
      "source": [
        "Sample the business data"
      ],
      "metadata": {
        "id": "K4HEHD68Zhep"
      }
    },
    {
      "cell_type": "code",
      "source": [
        "business_df.head(5)"
      ],
      "metadata": {
        "id": "Y42luJ3XZhyT",
        "colab": {
          "base_uri": "https://localhost:8080/",
          "height": 458
        },
        "outputId": "03e653cf-66a1-438b-fd15-c6d71878dbd8"
      },
      "execution_count": 4,
      "outputs": [
        {
          "output_type": "execute_result",
          "data": {
            "text/plain": [
              "              business_id                      name  \\\n",
              "0  Pns2l4eNsfO8kk83dixA6A  Abby Rappoport, LAC, CMQ   \n",
              "1  mpf3x-BjTdTEA3yCZrAYPw             The UPS Store   \n",
              "2  tUFrWirKiKi_TAnsVWINQQ                    Target   \n",
              "3  MTSW4McQd7CbVtyjqoe9mw        St Honore Pastries   \n",
              "4  mWMc6_wTdE0EUBKIGXDVfA  Perkiomen Valley Brewery   \n",
              "\n",
              "                           address           city state postal_code  \\\n",
              "0           1616 Chapala St, Ste 2  Santa Barbara    CA       93101   \n",
              "1  87 Grasso Plaza Shopping Center         Affton    MO       63123   \n",
              "2             5255 E Broadway Blvd         Tucson    AZ       85711   \n",
              "3                      935 Race St   Philadelphia    PA       19107   \n",
              "4                    101 Walnut St     Green Lane    PA       18054   \n",
              "\n",
              "    latitude   longitude  stars  review_count  is_open  \\\n",
              "0  34.426679 -119.711197    5.0             7    False   \n",
              "1  38.551126  -90.335695    3.0            15     True   \n",
              "2  32.223236 -110.880452    3.5            22    False   \n",
              "3  39.955505  -75.155564    4.0            80     True   \n",
              "4  40.338183  -75.471659    4.5            13     True   \n",
              "\n",
              "                                          attributes  \\\n",
              "0                      {'ByAppointmentOnly': 'True'}   \n",
              "1             {'BusinessAcceptsCreditCards': 'True'}   \n",
              "2  {'BikeParking': 'True', 'BusinessAcceptsCredit...   \n",
              "3  {'RestaurantsDelivery': 'False', 'OutdoorSeati...   \n",
              "4  {'BusinessAcceptsCreditCards': 'True', 'Wheelc...   \n",
              "\n",
              "                                          categories  \\\n",
              "0  Doctors, Traditional Chinese Medicine, Naturop...   \n",
              "1  Shipping Centers, Local Services, Notaries, Ma...   \n",
              "2  Department Stores, Shopping, Fashion, Home & G...   \n",
              "3  Restaurants, Food, Bubble Tea, Coffee & Tea, B...   \n",
              "4                          Brewpubs, Breweries, Food   \n",
              "\n",
              "                                               hours  \n",
              "0                                               None  \n",
              "1  {'Monday': '0:0-0:0', 'Tuesday': '8:0-18:30', ...  \n",
              "2  {'Monday': '8:0-22:0', 'Tuesday': '8:0-22:0', ...  \n",
              "3  {'Monday': '7:0-20:0', 'Tuesday': '7:0-20:0', ...  \n",
              "4  {'Wednesday': '14:0-22:0', 'Thursday': '16:0-2...  "
            ],
            "text/html": [
              "\n",
              "  <div id=\"df-a0ce8440-07e4-4a55-853c-4f0fc4dccb17\">\n",
              "    <div class=\"colab-df-container\">\n",
              "      <div>\n",
              "<style scoped>\n",
              "    .dataframe tbody tr th:only-of-type {\n",
              "        vertical-align: middle;\n",
              "    }\n",
              "\n",
              "    .dataframe tbody tr th {\n",
              "        vertical-align: top;\n",
              "    }\n",
              "\n",
              "    .dataframe thead th {\n",
              "        text-align: right;\n",
              "    }\n",
              "</style>\n",
              "<table border=\"1\" class=\"dataframe\">\n",
              "  <thead>\n",
              "    <tr style=\"text-align: right;\">\n",
              "      <th></th>\n",
              "      <th>business_id</th>\n",
              "      <th>name</th>\n",
              "      <th>address</th>\n",
              "      <th>city</th>\n",
              "      <th>state</th>\n",
              "      <th>postal_code</th>\n",
              "      <th>latitude</th>\n",
              "      <th>longitude</th>\n",
              "      <th>stars</th>\n",
              "      <th>review_count</th>\n",
              "      <th>is_open</th>\n",
              "      <th>attributes</th>\n",
              "      <th>categories</th>\n",
              "      <th>hours</th>\n",
              "    </tr>\n",
              "  </thead>\n",
              "  <tbody>\n",
              "    <tr>\n",
              "      <th>0</th>\n",
              "      <td>Pns2l4eNsfO8kk83dixA6A</td>\n",
              "      <td>Abby Rappoport, LAC, CMQ</td>\n",
              "      <td>1616 Chapala St, Ste 2</td>\n",
              "      <td>Santa Barbara</td>\n",
              "      <td>CA</td>\n",
              "      <td>93101</td>\n",
              "      <td>34.426679</td>\n",
              "      <td>-119.711197</td>\n",
              "      <td>5.0</td>\n",
              "      <td>7</td>\n",
              "      <td>False</td>\n",
              "      <td>{'ByAppointmentOnly': 'True'}</td>\n",
              "      <td>Doctors, Traditional Chinese Medicine, Naturop...</td>\n",
              "      <td>None</td>\n",
              "    </tr>\n",
              "    <tr>\n",
              "      <th>1</th>\n",
              "      <td>mpf3x-BjTdTEA3yCZrAYPw</td>\n",
              "      <td>The UPS Store</td>\n",
              "      <td>87 Grasso Plaza Shopping Center</td>\n",
              "      <td>Affton</td>\n",
              "      <td>MO</td>\n",
              "      <td>63123</td>\n",
              "      <td>38.551126</td>\n",
              "      <td>-90.335695</td>\n",
              "      <td>3.0</td>\n",
              "      <td>15</td>\n",
              "      <td>True</td>\n",
              "      <td>{'BusinessAcceptsCreditCards': 'True'}</td>\n",
              "      <td>Shipping Centers, Local Services, Notaries, Ma...</td>\n",
              "      <td>{'Monday': '0:0-0:0', 'Tuesday': '8:0-18:30', ...</td>\n",
              "    </tr>\n",
              "    <tr>\n",
              "      <th>2</th>\n",
              "      <td>tUFrWirKiKi_TAnsVWINQQ</td>\n",
              "      <td>Target</td>\n",
              "      <td>5255 E Broadway Blvd</td>\n",
              "      <td>Tucson</td>\n",
              "      <td>AZ</td>\n",
              "      <td>85711</td>\n",
              "      <td>32.223236</td>\n",
              "      <td>-110.880452</td>\n",
              "      <td>3.5</td>\n",
              "      <td>22</td>\n",
              "      <td>False</td>\n",
              "      <td>{'BikeParking': 'True', 'BusinessAcceptsCredit...</td>\n",
              "      <td>Department Stores, Shopping, Fashion, Home &amp; G...</td>\n",
              "      <td>{'Monday': '8:0-22:0', 'Tuesday': '8:0-22:0', ...</td>\n",
              "    </tr>\n",
              "    <tr>\n",
              "      <th>3</th>\n",
              "      <td>MTSW4McQd7CbVtyjqoe9mw</td>\n",
              "      <td>St Honore Pastries</td>\n",
              "      <td>935 Race St</td>\n",
              "      <td>Philadelphia</td>\n",
              "      <td>PA</td>\n",
              "      <td>19107</td>\n",
              "      <td>39.955505</td>\n",
              "      <td>-75.155564</td>\n",
              "      <td>4.0</td>\n",
              "      <td>80</td>\n",
              "      <td>True</td>\n",
              "      <td>{'RestaurantsDelivery': 'False', 'OutdoorSeati...</td>\n",
              "      <td>Restaurants, Food, Bubble Tea, Coffee &amp; Tea, B...</td>\n",
              "      <td>{'Monday': '7:0-20:0', 'Tuesday': '7:0-20:0', ...</td>\n",
              "    </tr>\n",
              "    <tr>\n",
              "      <th>4</th>\n",
              "      <td>mWMc6_wTdE0EUBKIGXDVfA</td>\n",
              "      <td>Perkiomen Valley Brewery</td>\n",
              "      <td>101 Walnut St</td>\n",
              "      <td>Green Lane</td>\n",
              "      <td>PA</td>\n",
              "      <td>18054</td>\n",
              "      <td>40.338183</td>\n",
              "      <td>-75.471659</td>\n",
              "      <td>4.5</td>\n",
              "      <td>13</td>\n",
              "      <td>True</td>\n",
              "      <td>{'BusinessAcceptsCreditCards': 'True', 'Wheelc...</td>\n",
              "      <td>Brewpubs, Breweries, Food</td>\n",
              "      <td>{'Wednesday': '14:0-22:0', 'Thursday': '16:0-2...</td>\n",
              "    </tr>\n",
              "  </tbody>\n",
              "</table>\n",
              "</div>\n",
              "      <button class=\"colab-df-convert\" onclick=\"convertToInteractive('df-a0ce8440-07e4-4a55-853c-4f0fc4dccb17')\"\n",
              "              title=\"Convert this dataframe to an interactive table.\"\n",
              "              style=\"display:none;\">\n",
              "        \n",
              "  <svg xmlns=\"http://www.w3.org/2000/svg\" height=\"24px\"viewBox=\"0 0 24 24\"\n",
              "       width=\"24px\">\n",
              "    <path d=\"M0 0h24v24H0V0z\" fill=\"none\"/>\n",
              "    <path d=\"M18.56 5.44l.94 2.06.94-2.06 2.06-.94-2.06-.94-.94-2.06-.94 2.06-2.06.94zm-11 1L8.5 8.5l.94-2.06 2.06-.94-2.06-.94L8.5 2.5l-.94 2.06-2.06.94zm10 10l.94 2.06.94-2.06 2.06-.94-2.06-.94-.94-2.06-.94 2.06-2.06.94z\"/><path d=\"M17.41 7.96l-1.37-1.37c-.4-.4-.92-.59-1.43-.59-.52 0-1.04.2-1.43.59L10.3 9.45l-7.72 7.72c-.78.78-.78 2.05 0 2.83L4 21.41c.39.39.9.59 1.41.59.51 0 1.02-.2 1.41-.59l7.78-7.78 2.81-2.81c.8-.78.8-2.07 0-2.86zM5.41 20L4 18.59l7.72-7.72 1.47 1.35L5.41 20z\"/>\n",
              "  </svg>\n",
              "      </button>\n",
              "      \n",
              "  <style>\n",
              "    .colab-df-container {\n",
              "      display:flex;\n",
              "      flex-wrap:wrap;\n",
              "      gap: 12px;\n",
              "    }\n",
              "\n",
              "    .colab-df-convert {\n",
              "      background-color: #E8F0FE;\n",
              "      border: none;\n",
              "      border-radius: 50%;\n",
              "      cursor: pointer;\n",
              "      display: none;\n",
              "      fill: #1967D2;\n",
              "      height: 32px;\n",
              "      padding: 0 0 0 0;\n",
              "      width: 32px;\n",
              "    }\n",
              "\n",
              "    .colab-df-convert:hover {\n",
              "      background-color: #E2EBFA;\n",
              "      box-shadow: 0px 1px 2px rgba(60, 64, 67, 0.3), 0px 1px 3px 1px rgba(60, 64, 67, 0.15);\n",
              "      fill: #174EA6;\n",
              "    }\n",
              "\n",
              "    [theme=dark] .colab-df-convert {\n",
              "      background-color: #3B4455;\n",
              "      fill: #D2E3FC;\n",
              "    }\n",
              "\n",
              "    [theme=dark] .colab-df-convert:hover {\n",
              "      background-color: #434B5C;\n",
              "      box-shadow: 0px 1px 3px 1px rgba(0, 0, 0, 0.15);\n",
              "      filter: drop-shadow(0px 1px 2px rgba(0, 0, 0, 0.3));\n",
              "      fill: #FFFFFF;\n",
              "    }\n",
              "  </style>\n",
              "\n",
              "      <script>\n",
              "        const buttonEl =\n",
              "          document.querySelector('#df-a0ce8440-07e4-4a55-853c-4f0fc4dccb17 button.colab-df-convert');\n",
              "        buttonEl.style.display =\n",
              "          google.colab.kernel.accessAllowed ? 'block' : 'none';\n",
              "\n",
              "        async function convertToInteractive(key) {\n",
              "          const element = document.querySelector('#df-a0ce8440-07e4-4a55-853c-4f0fc4dccb17');\n",
              "          const dataTable =\n",
              "            await google.colab.kernel.invokeFunction('convertToInteractive',\n",
              "                                                     [key], {});\n",
              "          if (!dataTable) return;\n",
              "\n",
              "          const docLinkHtml = 'Like what you see? Visit the ' +\n",
              "            '<a target=\"_blank\" href=https://colab.research.google.com/notebooks/data_table.ipynb>data table notebook</a>'\n",
              "            + ' to learn more about interactive tables.';\n",
              "          element.innerHTML = '';\n",
              "          dataTable['output_type'] = 'display_data';\n",
              "          await google.colab.output.renderOutput(dataTable, element);\n",
              "          const docLink = document.createElement('div');\n",
              "          docLink.innerHTML = docLinkHtml;\n",
              "          element.appendChild(docLink);\n",
              "        }\n",
              "      </script>\n",
              "    </div>\n",
              "  </div>\n",
              "  "
            ]
          },
          "metadata": {},
          "execution_count": 4
        }
      ]
    },
    {
      "cell_type": "markdown",
      "source": [
        "Sample the review data"
      ],
      "metadata": {
        "id": "SoiTIlWG_cyl"
      }
    },
    {
      "cell_type": "code",
      "source": [
        "reviews_df.head(5)"
      ],
      "metadata": {
        "id": "AViRqLpTZbG-",
        "colab": {
          "base_uri": "https://localhost:8080/",
          "height": 206
        },
        "outputId": "bf7ace68-36eb-4ff1-b237-b14a389ce290"
      },
      "execution_count": 5,
      "outputs": [
        {
          "output_type": "execute_result",
          "data": {
            "text/plain": [
              "              business_id  stars  useful  funny  cool  \\\n",
              "0  XQfwVwDr-v0ZS3_CbbE5Xw    3.0       0      0     0   \n",
              "1  cPepkJeRMtHapc_b2Oe_dw    4.0       1      0     1   \n",
              "2  kq5Ghhh14r-eCxlVmlyd8w    5.0       0      0     0   \n",
              "3  Zx7n8mdt8OzLRXVzolXNhQ    5.0       0      0     0   \n",
              "4  I6L0Zxi5Ww0zEWSAVgngeQ    4.0       0      0     0   \n",
              "\n",
              "                                                text                date  \n",
              "0  If you decide to eat here, just be aware it is... 2018-07-07 22:09:11  \n",
              "1  I was really between 3 and 4 stars for this on... 2018-07-17 03:30:07  \n",
              "2  My boyfriend and I tried this deli for the fir... 2018-08-23 21:39:38  \n",
              "3  Amazing biscuits and (fill in the blank). Grea... 2018-04-27 23:03:21  \n",
              "4  The cafe was extremely cute. We came at 8am an... 2018-07-07 20:50:12  "
            ],
            "text/html": [
              "\n",
              "  <div id=\"df-239b4f57-411e-48d8-b395-12b1be209e98\">\n",
              "    <div class=\"colab-df-container\">\n",
              "      <div>\n",
              "<style scoped>\n",
              "    .dataframe tbody tr th:only-of-type {\n",
              "        vertical-align: middle;\n",
              "    }\n",
              "\n",
              "    .dataframe tbody tr th {\n",
              "        vertical-align: top;\n",
              "    }\n",
              "\n",
              "    .dataframe thead th {\n",
              "        text-align: right;\n",
              "    }\n",
              "</style>\n",
              "<table border=\"1\" class=\"dataframe\">\n",
              "  <thead>\n",
              "    <tr style=\"text-align: right;\">\n",
              "      <th></th>\n",
              "      <th>business_id</th>\n",
              "      <th>stars</th>\n",
              "      <th>useful</th>\n",
              "      <th>funny</th>\n",
              "      <th>cool</th>\n",
              "      <th>text</th>\n",
              "      <th>date</th>\n",
              "    </tr>\n",
              "  </thead>\n",
              "  <tbody>\n",
              "    <tr>\n",
              "      <th>0</th>\n",
              "      <td>XQfwVwDr-v0ZS3_CbbE5Xw</td>\n",
              "      <td>3.0</td>\n",
              "      <td>0</td>\n",
              "      <td>0</td>\n",
              "      <td>0</td>\n",
              "      <td>If you decide to eat here, just be aware it is...</td>\n",
              "      <td>2018-07-07 22:09:11</td>\n",
              "    </tr>\n",
              "    <tr>\n",
              "      <th>1</th>\n",
              "      <td>cPepkJeRMtHapc_b2Oe_dw</td>\n",
              "      <td>4.0</td>\n",
              "      <td>1</td>\n",
              "      <td>0</td>\n",
              "      <td>1</td>\n",
              "      <td>I was really between 3 and 4 stars for this on...</td>\n",
              "      <td>2018-07-17 03:30:07</td>\n",
              "    </tr>\n",
              "    <tr>\n",
              "      <th>2</th>\n",
              "      <td>kq5Ghhh14r-eCxlVmlyd8w</td>\n",
              "      <td>5.0</td>\n",
              "      <td>0</td>\n",
              "      <td>0</td>\n",
              "      <td>0</td>\n",
              "      <td>My boyfriend and I tried this deli for the fir...</td>\n",
              "      <td>2018-08-23 21:39:38</td>\n",
              "    </tr>\n",
              "    <tr>\n",
              "      <th>3</th>\n",
              "      <td>Zx7n8mdt8OzLRXVzolXNhQ</td>\n",
              "      <td>5.0</td>\n",
              "      <td>0</td>\n",
              "      <td>0</td>\n",
              "      <td>0</td>\n",
              "      <td>Amazing biscuits and (fill in the blank). Grea...</td>\n",
              "      <td>2018-04-27 23:03:21</td>\n",
              "    </tr>\n",
              "    <tr>\n",
              "      <th>4</th>\n",
              "      <td>I6L0Zxi5Ww0zEWSAVgngeQ</td>\n",
              "      <td>4.0</td>\n",
              "      <td>0</td>\n",
              "      <td>0</td>\n",
              "      <td>0</td>\n",
              "      <td>The cafe was extremely cute. We came at 8am an...</td>\n",
              "      <td>2018-07-07 20:50:12</td>\n",
              "    </tr>\n",
              "  </tbody>\n",
              "</table>\n",
              "</div>\n",
              "      <button class=\"colab-df-convert\" onclick=\"convertToInteractive('df-239b4f57-411e-48d8-b395-12b1be209e98')\"\n",
              "              title=\"Convert this dataframe to an interactive table.\"\n",
              "              style=\"display:none;\">\n",
              "        \n",
              "  <svg xmlns=\"http://www.w3.org/2000/svg\" height=\"24px\"viewBox=\"0 0 24 24\"\n",
              "       width=\"24px\">\n",
              "    <path d=\"M0 0h24v24H0V0z\" fill=\"none\"/>\n",
              "    <path d=\"M18.56 5.44l.94 2.06.94-2.06 2.06-.94-2.06-.94-.94-2.06-.94 2.06-2.06.94zm-11 1L8.5 8.5l.94-2.06 2.06-.94-2.06-.94L8.5 2.5l-.94 2.06-2.06.94zm10 10l.94 2.06.94-2.06 2.06-.94-2.06-.94-.94-2.06-.94 2.06-2.06.94z\"/><path d=\"M17.41 7.96l-1.37-1.37c-.4-.4-.92-.59-1.43-.59-.52 0-1.04.2-1.43.59L10.3 9.45l-7.72 7.72c-.78.78-.78 2.05 0 2.83L4 21.41c.39.39.9.59 1.41.59.51 0 1.02-.2 1.41-.59l7.78-7.78 2.81-2.81c.8-.78.8-2.07 0-2.86zM5.41 20L4 18.59l7.72-7.72 1.47 1.35L5.41 20z\"/>\n",
              "  </svg>\n",
              "      </button>\n",
              "      \n",
              "  <style>\n",
              "    .colab-df-container {\n",
              "      display:flex;\n",
              "      flex-wrap:wrap;\n",
              "      gap: 12px;\n",
              "    }\n",
              "\n",
              "    .colab-df-convert {\n",
              "      background-color: #E8F0FE;\n",
              "      border: none;\n",
              "      border-radius: 50%;\n",
              "      cursor: pointer;\n",
              "      display: none;\n",
              "      fill: #1967D2;\n",
              "      height: 32px;\n",
              "      padding: 0 0 0 0;\n",
              "      width: 32px;\n",
              "    }\n",
              "\n",
              "    .colab-df-convert:hover {\n",
              "      background-color: #E2EBFA;\n",
              "      box-shadow: 0px 1px 2px rgba(60, 64, 67, 0.3), 0px 1px 3px 1px rgba(60, 64, 67, 0.15);\n",
              "      fill: #174EA6;\n",
              "    }\n",
              "\n",
              "    [theme=dark] .colab-df-convert {\n",
              "      background-color: #3B4455;\n",
              "      fill: #D2E3FC;\n",
              "    }\n",
              "\n",
              "    [theme=dark] .colab-df-convert:hover {\n",
              "      background-color: #434B5C;\n",
              "      box-shadow: 0px 1px 3px 1px rgba(0, 0, 0, 0.15);\n",
              "      filter: drop-shadow(0px 1px 2px rgba(0, 0, 0, 0.3));\n",
              "      fill: #FFFFFF;\n",
              "    }\n",
              "  </style>\n",
              "\n",
              "      <script>\n",
              "        const buttonEl =\n",
              "          document.querySelector('#df-239b4f57-411e-48d8-b395-12b1be209e98 button.colab-df-convert');\n",
              "        buttonEl.style.display =\n",
              "          google.colab.kernel.accessAllowed ? 'block' : 'none';\n",
              "\n",
              "        async function convertToInteractive(key) {\n",
              "          const element = document.querySelector('#df-239b4f57-411e-48d8-b395-12b1be209e98');\n",
              "          const dataTable =\n",
              "            await google.colab.kernel.invokeFunction('convertToInteractive',\n",
              "                                                     [key], {});\n",
              "          if (!dataTable) return;\n",
              "\n",
              "          const docLinkHtml = 'Like what you see? Visit the ' +\n",
              "            '<a target=\"_blank\" href=https://colab.research.google.com/notebooks/data_table.ipynb>data table notebook</a>'\n",
              "            + ' to learn more about interactive tables.';\n",
              "          element.innerHTML = '';\n",
              "          dataTable['output_type'] = 'display_data';\n",
              "          await google.colab.output.renderOutput(dataTable, element);\n",
              "          const docLink = document.createElement('div');\n",
              "          docLink.innerHTML = docLinkHtml;\n",
              "          element.appendChild(docLink);\n",
              "        }\n",
              "      </script>\n",
              "    </div>\n",
              "  </div>\n",
              "  "
            ]
          },
          "metadata": {},
          "execution_count": 5
        }
      ]
    },
    {
      "cell_type": "code",
      "source": [
        "# Join all categories into one large string\n",
        "joint_categories = ', '.join(business_df['categories'].dropna())\n",
        "\n",
        "# Make a list with each separate category as an entry\n",
        "categories = pd.DataFrame(joint_categories.split(', '), columns=['category'])\n",
        "\n",
        "# Get a series count of unique values\n",
        "categories_series = categories.category.value_counts()\n",
        "categories_df = pd.DataFrame(categories_series)\n",
        "\n",
        "# Use default index\n",
        "categories_df.reset_index(inplace=True)\n",
        "\n",
        "# Build plot for visualization\n",
        "plt.figure(figsize=(12,10))\n",
        "categories_axis = sns.barplot(y = 'index', x = 'category', data = categories_df.iloc[0:20], palette='hls')\n",
        "categories_axis.set_ylabel('Category')\n",
        "categories_axis.set_xlabel('Number of businesses')\n",
        "categories_axis.set_title('Number of businesses by category')\n",
        "\n",
        "for p in categories_axis.patches:\n",
        "    categories_axis.annotate(int(p.get_width()),\n",
        "                ((p.get_x() + p.get_width()),\n",
        "                 p.get_y()),\n",
        "                 xytext=(2, -16),\n",
        "                fontsize=16,\n",
        "                color='#00244d',\n",
        "                textcoords='offset points',\n",
        "                horizontalalignment='right')\n",
        " \n",
        "plt.show()   "
      ],
      "metadata": {
        "id": "GWqBcLcGnvyk",
        "colab": {
          "base_uri": "https://localhost:8080/",
          "height": 626
        },
        "outputId": "9aa7e32f-0325-4ed9-c468-019f96c273f0"
      },
      "execution_count": 6,
      "outputs": [
        {
          "output_type": "display_data",
          "data": {
            "text/plain": [
              "<Figure size 864x720 with 1 Axes>"
            ],
            "image/png": "[encoded data removed]"
          },
          "metadata": {}
        }
      ]
    },
    {
      "cell_type": "markdown",
      "source": [
        "## 3. Get a count of only restaurant- or food-related categories"
      ],
      "metadata": {
        "id": "HjVR5ZrMk5nI"
      }
    },
    {
      "cell_type": "code",
      "source": [
        "related_cats = ['Restaurants', 'Food', 'Bars', 'Sandwiches', 'American (Traditional)', 'Pizza', 'Coffee & Tea', 'Fast Food', 'Breakfast & Brunch', 'American (New)']\n",
        "\n",
        "# Filter for all the related categories\n",
        "related_df = categories.where(lambda category : category.isin(related_cats)).dropna()\n",
        "\n",
        "len(related_df)"
      ],
      "metadata": {
        "id": "Sb7MNRAJqWGr",
        "colab": {
          "base_uri": "https://localhost:8080/"
        },
        "outputId": "28f0af75-cec2-4d5f-dedd-eeb4e358bdd2"
      },
      "execution_count": 7,
      "outputs": [
        {
          "output_type": "execute_result",
          "data": {
            "text/plain": [
              "140223"
            ]
          },
          "metadata": {},
          "execution_count": 7
        }
      ]
    },
    {
      "cell_type": "markdown",
      "source": [
        "## 4. Filter only businesses that are food related"
      ],
      "metadata": {
        "id": "3zg3M2y3MpFX"
      }
    },
    {
      "cell_type": "code",
      "source": [
        "food_businesses = business_df.query(\"categories in @related_cats\")\n",
        "food_businesses.head(5)"
      ],
      "metadata": {
        "id": "XkNnEgn9Mve0",
        "colab": {
          "base_uri": "https://localhost:8080/",
          "height": 424
        },
        "outputId": "21672dac-956e-4e8d-fb66-3680cb0d2bb0"
      },
      "execution_count": 8,
      "outputs": [
        {
          "output_type": "execute_result",
          "data": {
            "text/plain": [
              "                 business_id                                           name  \\\n",
              "3655  x2J-YIFeGZ-nsezzooVA9g                                      Twenty 21   \n",
              "4764  mRWlzIJpyQgatq_J7dzxWw  Audubon Aquarium of the Americas - Food Court   \n",
              "5142  KuLi91b-N_0XY_3IA72RJQ                           MexiPhilly Food Cart   \n",
              "5873  VlrSuulqTFeQfV2PToJGvg                                    Fung Garden   \n",
              "6856  mFE9V6LPpsDRUQLEBsBRRA                                  Pearl of East   \n",
              "\n",
              "                    address          city state postal_code   latitude  \\\n",
              "3655         2005 Market St  Philadelphia    PA       19103  39.954108   \n",
              "4764             1 Canal St   New Orleans    LA       70130  29.950518   \n",
              "5142  37TH St And Spruce St  Philadelphia    PA       19104  39.951029   \n",
              "5873         5118 Gall Blvd   Zephyrhills    FL       33542  28.232059   \n",
              "6856      2049 W Oregon Ave  Philadelphia    PA       19145  39.918635   \n",
              "\n",
              "      longitude  stars  review_count  is_open  \\\n",
              "3655 -75.174671    3.0             8    False   \n",
              "4764 -90.063024    2.5             7     True   \n",
              "5142 -75.197275    3.5            21     True   \n",
              "5873 -82.180394    3.5             8    False   \n",
              "6856 -75.182422    3.0            17     True   \n",
              "\n",
              "                                             attributes   categories  \\\n",
              "3655  {'BusinessAcceptsCreditCards': 'True', 'Restau...  Restaurants   \n",
              "4764  {'BusinessAcceptsCreditCards': 'True', 'Busine...         Food   \n",
              "5142  {'RestaurantsPriceRange2': '1', 'BusinessAccep...         Food   \n",
              "5873  {'RestaurantsTakeOut': 'True', 'HasTV': 'False...  Restaurants   \n",
              "6856  {'RestaurantsGoodForGroups': 'False', 'Busines...  Restaurants   \n",
              "\n",
              "                                                  hours  \n",
              "3655                                               None  \n",
              "4764                                               None  \n",
              "5142                                               None  \n",
              "5873  {'Monday': '10:0-21:0', 'Tuesday': '10:0-21:0'...  \n",
              "6856  {'Monday': '10:30-22:30', 'Tuesday': '10:30-22...  "
            ],
            "text/html": [
              "\n",
              "  <div id=\"df-4f3e2774-e245-44fa-8caa-9379e999a8b7\">\n",
              "    <div class=\"colab-df-container\">\n",
              "      <div>\n",
              "<style scoped>\n",
              "    .dataframe tbody tr th:only-of-type {\n",
              "        vertical-align: middle;\n",
              "    }\n",
              "\n",
              "    .dataframe tbody tr th {\n",
              "        vertical-align: top;\n",
              "    }\n",
              "\n",
              "    .dataframe thead th {\n",
              "        text-align: right;\n",
              "    }\n",
              "</style>\n",
              "<table border=\"1\" class=\"dataframe\">\n",
              "  <thead>\n",
              "    <tr style=\"text-align: right;\">\n",
              "      <th></th>\n",
              "      <th>business_id</th>\n",
              "      <th>name</th>\n",
              "      <th>address</th>\n",
              "      <th>city</th>\n",
              "      <th>state</th>\n",
              "      <th>postal_code</th>\n",
              "      <th>latitude</th>\n",
              "      <th>longitude</th>\n",
              "      <th>stars</th>\n",
              "      <th>review_count</th>\n",
              "      <th>is_open</th>\n",
              "      <th>attributes</th>\n",
              "      <th>categories</th>\n",
              "      <th>hours</th>\n",
              "    </tr>\n",
              "  </thead>\n",
              "  <tbody>\n",
              "    <tr>\n",
              "      <th>3655</th>\n",
              "      <td>x2J-YIFeGZ-nsezzooVA9g</td>\n",
              "      <td>Twenty 21</td>\n",
              "      <td>2005 Market St</td>\n",
              "      <td>Philadelphia</td>\n",
              "      <td>PA</td>\n",
              "      <td>19103</td>\n",
              "      <td>39.954108</td>\n",
              "      <td>-75.174671</td>\n",
              "      <td>3.0</td>\n",
              "      <td>8</td>\n",
              "      <td>False</td>\n",
              "      <td>{'BusinessAcceptsCreditCards': 'True', 'Restau...</td>\n",
              "      <td>Restaurants</td>\n",
              "      <td>None</td>\n",
              "    </tr>\n",
              "    <tr>\n",
              "      <th>4764</th>\n",
              "      <td>mRWlzIJpyQgatq_J7dzxWw</td>\n",
              "      <td>Audubon Aquarium of the Americas - Food Court</td>\n",
              "      <td>1 Canal St</td>\n",
              "      <td>New Orleans</td>\n",
              "      <td>LA</td>\n",
              "      <td>70130</td>\n",
              "      <td>29.950518</td>\n",
              "      <td>-90.063024</td>\n",
              "      <td>2.5</td>\n",
              "      <td>7</td>\n",
              "      <td>True</td>\n",
              "      <td>{'BusinessAcceptsCreditCards': 'True', 'Busine...</td>\n",
              "      <td>Food</td>\n",
              "      <td>None</td>\n",
              "    </tr>\n",
              "    <tr>\n",
              "      <th>5142</th>\n",
              "      <td>KuLi91b-N_0XY_3IA72RJQ</td>\n",
              "      <td>MexiPhilly Food Cart</td>\n",
              "      <td>37TH St And Spruce St</td>\n",
              "      <td>Philadelphia</td>\n",
              "      <td>PA</td>\n",
              "      <td>19104</td>\n",
              "      <td>39.951029</td>\n",
              "      <td>-75.197275</td>\n",
              "      <td>3.5</td>\n",
              "      <td>21</td>\n",
              "      <td>True</td>\n",
              "      <td>{'RestaurantsPriceRange2': '1', 'BusinessAccep...</td>\n",
              "      <td>Food</td>\n",
              "      <td>None</td>\n",
              "    </tr>\n",
              "    <tr>\n",
              "      <th>5873</th>\n",
              "      <td>VlrSuulqTFeQfV2PToJGvg</td>\n",
              "      <td>Fung Garden</td>\n",
              "      <td>5118 Gall Blvd</td>\n",
              "      <td>Zephyrhills</td>\n",
              "      <td>FL</td>\n",
              "      <td>33542</td>\n",
              "      <td>28.232059</td>\n",
              "      <td>-82.180394</td>\n",
              "      <td>3.5</td>\n",
              "      <td>8</td>\n",
              "      <td>False</td>\n",
              "      <td>{'RestaurantsTakeOut': 'True', 'HasTV': 'False...</td>\n",
              "      <td>Restaurants</td>\n",
              "      <td>{'Monday': '10:0-21:0', 'Tuesday': '10:0-21:0'...</td>\n",
              "    </tr>\n",
              "    <tr>\n",
              "      <th>6856</th>\n",
              "      <td>mFE9V6LPpsDRUQLEBsBRRA</td>\n",
              "      <td>Pearl of East</td>\n",
              "      <td>2049 W Oregon Ave</td>\n",
              "      <td>Philadelphia</td>\n",
              "      <td>PA</td>\n",
              "      <td>19145</td>\n",
              "      <td>39.918635</td>\n",
              "      <td>-75.182422</td>\n",
              "      <td>3.0</td>\n",
              "      <td>17</td>\n",
              "      <td>True</td>\n",
              "      <td>{'RestaurantsGoodForGroups': 'False', 'Busines...</td>\n",
              "      <td>Restaurants</td>\n",
              "      <td>{'Monday': '10:30-22:30', 'Tuesday': '10:30-22...</td>\n",
              "    </tr>\n",
              "  </tbody>\n",
              "</table>\n",
              "</div>\n",
              "      <button class=\"colab-df-convert\" onclick=\"convertToInteractive('df-4f3e2774-e245-44fa-8caa-9379e999a8b7')\"\n",
              "              title=\"Convert this dataframe to an interactive table.\"\n",
              "              style=\"display:none;\">\n",
              "        \n",
              "  <svg xmlns=\"http://www.w3.org/2000/svg\" height=\"24px\"viewBox=\"0 0 24 24\"\n",
              "       width=\"24px\">\n",
              "    <path d=\"M0 0h24v24H0V0z\" fill=\"none\"/>\n",
              "    <path d=\"M18.56 5.44l.94 2.06.94-2.06 2.06-.94-2.06-.94-.94-2.06-.94 2.06-2.06.94zm-11 1L8.5 8.5l.94-2.06 2.06-.94-2.06-.94L8.5 2.5l-.94 2.06-2.06.94zm10 10l.94 2.06.94-2.06 2.06-.94-2.06-.94-.94-2.06-.94 2.06-2.06.94z\"/><path d=\"M17.41 7.96l-1.37-1.37c-.4-.4-.92-.59-1.43-.59-.52 0-1.04.2-1.43.59L10.3 9.45l-7.72 7.72c-.78.78-.78 2.05 0 2.83L4 21.41c.39.39.9.59 1.41.59.51 0 1.02-.2 1.41-.59l7.78-7.78 2.81-2.81c.8-.78.8-2.07 0-2.86zM5.41 20L4 18.59l7.72-7.72 1.47 1.35L5.41 20z\"/>\n",
              "  </svg>\n",
              "      </button>\n",
              "      \n",
              "  <style>\n",
              "    .colab-df-container {\n",
              "      display:flex;\n",
              "      flex-wrap:wrap;\n",
              "      gap: 12px;\n",
              "    }\n",
              "\n",
              "    .colab-df-convert {\n",
              "      background-color: #E8F0FE;\n",
              "      border: none;\n",
              "      border-radius: 50%;\n",
              "      cursor: pointer;\n",
              "      display: none;\n",
              "      fill: #1967D2;\n",
              "      height: 32px;\n",
              "      padding: 0 0 0 0;\n",
              "      width: 32px;\n",
              "    }\n",
              "\n",
              "    .colab-df-convert:hover {\n",
              "      background-color: #E2EBFA;\n",
              "      box-shadow: 0px 1px 2px rgba(60, 64, 67, 0.3), 0px 1px 3px 1px rgba(60, 64, 67, 0.15);\n",
              "      fill: #174EA6;\n",
              "    }\n",
              "\n",
              "    [theme=dark] .colab-df-convert {\n",
              "      background-color: #3B4455;\n",
              "      fill: #D2E3FC;\n",
              "    }\n",
              "\n",
              "    [theme=dark] .colab-df-convert:hover {\n",
              "      background-color: #434B5C;\n",
              "      box-shadow: 0px 1px 3px 1px rgba(0, 0, 0, 0.15);\n",
              "      filter: drop-shadow(0px 1px 2px rgba(0, 0, 0, 0.3));\n",
              "      fill: #FFFFFF;\n",
              "    }\n",
              "  </style>\n",
              "\n",
              "      <script>\n",
              "        const buttonEl =\n",
              "          document.querySelector('#df-4f3e2774-e245-44fa-8caa-9379e999a8b7 button.colab-df-convert');\n",
              "        buttonEl.style.display =\n",
              "          google.colab.kernel.accessAllowed ? 'block' : 'none';\n",
              "\n",
              "        async function convertToInteractive(key) {\n",
              "          const element = document.querySelector('#df-4f3e2774-e245-44fa-8caa-9379e999a8b7');\n",
              "          const dataTable =\n",
              "            await google.colab.kernel.invokeFunction('convertToInteractive',\n",
              "                                                     [key], {});\n",
              "          if (!dataTable) return;\n",
              "\n",
              "          const docLinkHtml = 'Like what you see? Visit the ' +\n",
              "            '<a target=\"_blank\" href=https://colab.research.google.com/notebooks/data_table.ipynb>data table notebook</a>'\n",
              "            + ' to learn more about interactive tables.';\n",
              "          element.innerHTML = '';\n",
              "          dataTable['output_type'] = 'display_data';\n",
              "          await google.colab.output.renderOutput(dataTable, element);\n",
              "          const docLink = document.createElement('div');\n",
              "          docLink.innerHTML = docLinkHtml;\n",
              "          element.appendChild(docLink);\n",
              "        }\n",
              "      </script>\n",
              "    </div>\n",
              "  </div>\n",
              "  "
            ]
          },
          "metadata": {},
          "execution_count": 8
        }
      ]
    },
    {
      "cell_type": "markdown",
      "source": [
        "## 5. Plot review stars count"
      ],
      "metadata": {
        "id": "SZs1xj3WuXU1"
      }
    },
    {
      "cell_type": "code",
      "source": [
        "plt.figure(figsize=(10,7))\n",
        "axis = sns.countplot(x='stars', data = food_businesses, palette='Paired')\n",
        "axis.set_ylabel('Count')\n",
        "axis.set_xlabel('Stars')\n",
        "axis.set_title('Restaurant-related businesses by rating')\n",
        "\n",
        "for p in axis.patches:\n",
        "        width, height = p.get_width(), p.get_height()\n",
        "        x, y = p.get_xy() \n",
        "        axis.text(x+width-.4, \n",
        "                y+height+.3,\n",
        "                '{:.0f}'.format(height),\n",
        "                weight='bold',\n",
        "                horizontalalignment='center')\n",
        "                \n",
        "plt.show()"
      ],
      "metadata": {
        "id": "fQl_s6hJu6D6",
        "colab": {
          "base_uri": "https://localhost:8080/",
          "height": 462
        },
        "outputId": "9938bdef-c515-4484-8454-1bd2f5a26c19"
      },
      "execution_count": 9,
      "outputs": [
        {
          "output_type": "display_data",
          "data": {
            "text/plain": [
              "<Figure size 720x504 with 1 Axes>"
            ],
            "image/png": "[encoded data removed]"
          },
          "metadata": {}
        }
      ]
    },
    {
      "cell_type": "markdown",
      "source": [
        "## 6. Filter to see how many of the restaurants are still open "
      ],
      "metadata": {
        "id": "1P8A8VlsTC7i"
      }
    },
    {
      "cell_type": "code",
      "source": [
        "open_businesses = food_businesses.where(food_businesses['is_open'] == True)\n",
        "\n",
        "len(open_businesses)"
      ],
      "metadata": {
        "id": "tR5S_yuUTCqi",
        "colab": {
          "base_uri": "https://localhost:8080/"
        },
        "outputId": "b2ff7c63-6369-40b1-9b1f-f0116d870be1"
      },
      "execution_count": 10,
      "outputs": [
        {
          "output_type": "execute_result",
          "data": {
            "text/plain": [
              "126"
            ]
          },
          "metadata": {},
          "execution_count": 10
        }
      ]
    },
    {
      "cell_type": "markdown",
      "source": [
        "## 7. Breakdown by Top 10 States"
      ],
      "metadata": {
        "id": "vujtO3gtt1XJ"
      }
    },
    {
      "cell_type": "code",
      "source": [
        "top10 = open_businesses['state'].value_counts(ascending=True).tail(10).to_frame()"
      ],
      "metadata": {
        "id": "wfHViW5JuLQ2"
      },
      "execution_count": 11,
      "outputs": []
    },
    {
      "cell_type": "code",
      "source": [
        "plt.figure(figsize=(10,7))\n",
        "axis = sns.barplot(x=top10.index,y='state', data=top10, palette='Blues')\n",
        "axis.set_ylabel('Count')\n",
        "axis.set_xlabel('States')\n",
        "axis.set_title('Number of Businesses by State (Top 10)')\n",
        "\n",
        "for patch in axis.patches:\n",
        "        width, height = patch.get_width(), patch.get_height()\n",
        "        x, y = patch.get_xy() \n",
        "        axis.text(x+width-.4, \n",
        "                y+height+0.3,\n",
        "                '{:.0f}'.format(height),\n",
        "                weight='bold',\n",
        "                horizontalalignment='center',\n",
        "                size='medium') \n",
        "                \n",
        "plt.show()"
      ],
      "metadata": {
        "id": "lmjSUxZfuaOh",
        "colab": {
          "base_uri": "https://localhost:8080/",
          "height": 462
        },
        "outputId": "1069257c-ed4d-4cd9-acde-f935fe5d6dd3"
      },
      "execution_count": 12,
      "outputs": [
        {
          "output_type": "display_data",
          "data": {
            "text/plain": [
              "<Figure size 720x504 with 1 Axes>"
            ],
            "image/png": "[encoded data removed]"
          },
          "metadata": {}
        }
      ]
    },
    {
      "cell_type": "markdown",
      "source": [
        "### There are more reviews for PA than other States"
      ],
      "metadata": {
        "id": "AdEqLM5sdNdB"
      }
    },
    {
      "cell_type": "markdown",
      "source": [
        "## **8. Perform Sentiment Analysis**"
      ],
      "metadata": {
        "id": "xd2_TwgGdVax"
      }
    },
    {
      "cell_type": "markdown",
      "source": [
        "### Some assumptions to keep in mind\n",
        "\n",
        "1. Negative reviews will be anything from 0 to 3 stars\n",
        "2. Positive reviews will be anything from 4 to 6 stars\n",
        "3. We will work with the a subset of the dataset, a sample of 125k entries\n",
        "4. The expected result will be a dataframe with the review ('text' in the dataset) as well as the 'sentiment' boolean variable"
      ],
      "metadata": {
        "id": "ETpbG2UidbSb"
      }
    },
    {
      "cell_type": "code",
      "source": [
        "# Import libraries\n",
        "import nltk\n",
        "import re, string\n",
        "from nltk.corpus import stopwords\n",
        "from nltk.stem import WordNetLemmatizer\n",
        "from sklearn.model_selection import train_test_split\n",
        "\n",
        "nltk.download('punkt')\n",
        "nltk.download('omw-1.4')\n",
        "nltk.download('wordnet')\n",
        "nltk.download('stopwords')\n",
        "\n",
        "from sklearn.svm import LinearSVC\n",
        "from sklearn.metrics import classification_report\n",
        "from sklearn.feature_extraction.text import TfidfVectorizer\n",
        "from sklearn.feature_extraction.text import CountVectorizer"
      ],
      "metadata": {
        "id": "CsCzQ5Gjhkci",
        "colab": {
          "base_uri": "https://localhost:8080/"
        },
        "outputId": "28b89387-bea7-4e33-b4dc-d891de7dbc7b"
      },
      "execution_count": 13,
      "outputs": [
        {
          "output_type": "stream",
          "name": "stderr",
          "text": [
            "[nltk_data] Downloading package punkt to /root/nltk_data...\n",
            "[nltk_data]   Unzipping tokenizers/punkt.zip.\n",
            "[nltk_data] Downloading package omw-1.4 to /root/nltk_data...\n",
            "[nltk_data] Downloading package wordnet to /root/nltk_data...\n",
            "[nltk_data] Downloading package stopwords to /root/nltk_data...\n",
            "[nltk_data]   Unzipping corpora/stopwords.zip.\n"
          ]
        }
      ]
    },
    {
      "cell_type": "code",
      "source": [
        "# Re-map review stars as 0 (negative) or 1 (positive) as described in the assumptions above\n",
        "\n",
        "reviews_df['sentiment'] = reviews_df['stars'].replace({\n",
        "    1: 0, # negative\n",
        "    2: 0, # negative\n",
        "    3: 0, # negative\n",
        "    4: 1, # positive\n",
        "    5: 1  # positive\n",
        "}).astype(int)"
      ],
      "metadata": {
        "id": "ZVCipKRRdXzY"
      },
      "execution_count": 14,
      "outputs": []
    },
    {
      "cell_type": "code",
      "source": [
        "# Sample 125k entries\n",
        "\n",
        "sample_reviews_df = reviews_df.sample(125000).reset_index(drop=True)"
      ],
      "metadata": {
        "id": "xtbseTvde1A8"
      },
      "execution_count": 15,
      "outputs": []
    },
    {
      "cell_type": "code",
      "source": [
        "# Create the two columns as described in the assumptions above\n",
        "\n",
        "analysis_df = sample_reviews_df[\n",
        "    ['text', 'sentiment']\n",
        "]\n",
        "\n",
        "analysis_df.head(5)"
      ],
      "metadata": {
        "id": "MGG8y2apfEkf",
        "colab": {
          "base_uri": "https://localhost:8080/",
          "height": 206
        },
        "outputId": "e6db7eff-b7e8-4164-b2c9-272feaf28657"
      },
      "execution_count": 16,
      "outputs": [
        {
          "output_type": "execute_result",
          "data": {
            "text/plain": [
              "                                                text  sentiment\n",
              "0  The array of food choices looks so wonderful. ...          1\n",
              "1  Updating my review to add that my puppy is all...          1\n",
              "2  I've been using A1 pharmacy for almost 10 year...          1\n",
              "3  Love this place! Their curry and sushi are del...          1\n",
              "4  This place is awesome! The desserts are always...          1"
            ],
            "text/html": [
              "\n",
              "  <div id=\"df-192b8a2d-c7f6-4d02-bc94-2ddf7e8eef3e\">\n",
              "    <div class=\"colab-df-container\">\n",
              "      <div>\n",
              "<style scoped>\n",
              "    .dataframe tbody tr th:only-of-type {\n",
              "        vertical-align: middle;\n",
              "    }\n",
              "\n",
              "    .dataframe tbody tr th {\n",
              "        vertical-align: top;\n",
              "    }\n",
              "\n",
              "    .dataframe thead th {\n",
              "        text-align: right;\n",
              "    }\n",
              "</style>\n",
              "<table border=\"1\" class=\"dataframe\">\n",
              "  <thead>\n",
              "    <tr style=\"text-align: right;\">\n",
              "      <th></th>\n",
              "      <th>text</th>\n",
              "      <th>sentiment</th>\n",
              "    </tr>\n",
              "  </thead>\n",
              "  <tbody>\n",
              "    <tr>\n",
              "      <th>0</th>\n",
              "      <td>The array of food choices looks so wonderful. ...</td>\n",
              "      <td>1</td>\n",
              "    </tr>\n",
              "    <tr>\n",
              "      <th>1</th>\n",
              "      <td>Updating my review to add that my puppy is all...</td>\n",
              "      <td>1</td>\n",
              "    </tr>\n",
              "    <tr>\n",
              "      <th>2</th>\n",
              "      <td>I've been using A1 pharmacy for almost 10 year...</td>\n",
              "      <td>1</td>\n",
              "    </tr>\n",
              "    <tr>\n",
              "      <th>3</th>\n",
              "      <td>Love this place! Their curry and sushi are del...</td>\n",
              "      <td>1</td>\n",
              "    </tr>\n",
              "    <tr>\n",
              "      <th>4</th>\n",
              "      <td>This place is awesome! The desserts are always...</td>\n",
              "      <td>1</td>\n",
              "    </tr>\n",
              "  </tbody>\n",
              "</table>\n",
              "</div>\n",
              "      <button class=\"colab-df-convert\" onclick=\"convertToInteractive('df-192b8a2d-c7f6-4d02-bc94-2ddf7e8eef3e')\"\n",
              "              title=\"Convert this dataframe to an interactive table.\"\n",
              "              style=\"display:none;\">\n",
              "        \n",
              "  <svg xmlns=\"http://www.w3.org/2000/svg\" height=\"24px\"viewBox=\"0 0 24 24\"\n",
              "       width=\"24px\">\n",
              "    <path d=\"M0 0h24v24H0V0z\" fill=\"none\"/>\n",
              "    <path d=\"M18.56 5.44l.94 2.06.94-2.06 2.06-.94-2.06-.94-.94-2.06-.94 2.06-2.06.94zm-11 1L8.5 8.5l.94-2.06 2.06-.94-2.06-.94L8.5 2.5l-.94 2.06-2.06.94zm10 10l.94 2.06.94-2.06 2.06-.94-2.06-.94-.94-2.06-.94 2.06-2.06.94z\"/><path d=\"M17.41 7.96l-1.37-1.37c-.4-.4-.92-.59-1.43-.59-.52 0-1.04.2-1.43.59L10.3 9.45l-7.72 7.72c-.78.78-.78 2.05 0 2.83L4 21.41c.39.39.9.59 1.41.59.51 0 1.02-.2 1.41-.59l7.78-7.78 2.81-2.81c.8-.78.8-2.07 0-2.86zM5.41 20L4 18.59l7.72-7.72 1.47 1.35L5.41 20z\"/>\n",
              "  </svg>\n",
              "      </button>\n",
              "      \n",
              "  <style>\n",
              "    .colab-df-container {\n",
              "      display:flex;\n",
              "      flex-wrap:wrap;\n",
              "      gap: 12px;\n",
              "    }\n",
              "\n",
              "    .colab-df-convert {\n",
              "      background-color: #E8F0FE;\n",
              "      border: none;\n",
              "      border-radius: 50%;\n",
              "      cursor: pointer;\n",
              "      display: none;\n",
              "      fill: #1967D2;\n",
              "      height: 32px;\n",
              "      padding: 0 0 0 0;\n",
              "      width: 32px;\n",
              "    }\n",
              "\n",
              "    .colab-df-convert:hover {\n",
              "      background-color: #E2EBFA;\n",
              "      box-shadow: 0px 1px 2px rgba(60, 64, 67, 0.3), 0px 1px 3px 1px rgba(60, 64, 67, 0.15);\n",
              "      fill: #174EA6;\n",
              "    }\n",
              "\n",
              "    [theme=dark] .colab-df-convert {\n",
              "      background-color: #3B4455;\n",
              "      fill: #D2E3FC;\n",
              "    }\n",
              "\n",
              "    [theme=dark] .colab-df-convert:hover {\n",
              "      background-color: #434B5C;\n",
              "      box-shadow: 0px 1px 3px 1px rgba(0, 0, 0, 0.15);\n",
              "      filter: drop-shadow(0px 1px 2px rgba(0, 0, 0, 0.3));\n",
              "      fill: #FFFFFF;\n",
              "    }\n",
              "  </style>\n",
              "\n",
              "      <script>\n",
              "        const buttonEl =\n",
              "          document.querySelector('#df-192b8a2d-c7f6-4d02-bc94-2ddf7e8eef3e button.colab-df-convert');\n",
              "        buttonEl.style.display =\n",
              "          google.colab.kernel.accessAllowed ? 'block' : 'none';\n",
              "\n",
              "        async function convertToInteractive(key) {\n",
              "          const element = document.querySelector('#df-192b8a2d-c7f6-4d02-bc94-2ddf7e8eef3e');\n",
              "          const dataTable =\n",
              "            await google.colab.kernel.invokeFunction('convertToInteractive',\n",
              "                                                     [key], {});\n",
              "          if (!dataTable) return;\n",
              "\n",
              "          const docLinkHtml = 'Like what you see? Visit the ' +\n",
              "            '<a target=\"_blank\" href=https://colab.research.google.com/notebooks/data_table.ipynb>data table notebook</a>'\n",
              "            + ' to learn more about interactive tables.';\n",
              "          element.innerHTML = '';\n",
              "          dataTable['output_type'] = 'display_data';\n",
              "          await google.colab.output.renderOutput(dataTable, element);\n",
              "          const docLink = document.createElement('div');\n",
              "          docLink.innerHTML = docLinkHtml;\n",
              "          element.appendChild(docLink);\n",
              "        }\n",
              "      </script>\n",
              "    </div>\n",
              "  </div>\n",
              "  "
            ]
          },
          "metadata": {},
          "execution_count": 16
        }
      ]
    },
    {
      "cell_type": "code",
      "source": [
        "# Convert English contractions into separate words to standardize\n",
        "# For instance: \"wouldn't\" becomes \"would not\"\n",
        "# There is a comprehensive list of contractions accessible at https://www.sjsu.edu/writingcenter/docs/handouts/Contractions.pdf\n",
        "# and a python object can be found at https://stackoverflow.com/questions/19790188/expanding-english-language-contractions-in-python\n",
        "# For purposes of this project, we shall use a simple function to take care of the most common patterns\n",
        "\n",
        "def get_canonized_contractions(word):\n",
        "     word = re.sub(r\"couldn’t\", \"could not\", word)\n",
        "     word = re.sub(r\"wouldn’t\", \"would not\", word)\n",
        "     word = re.sub(r\"won’t\", \"will not\", word)\n",
        "     word = re.sub(r\"can\\’t\", \"can not\", word)\n",
        "     word = re.sub(r\"\\’d\",  \" would\", word)\n",
        "     word = re.sub(r\"\\’ve\", \" have\", word)\n",
        "     word = re.sub(r\"\\’ll\", \" will\", word)\n",
        "     word = re.sub(r\"\\’re\", \" are\", word)\n",
        "     word = re.sub(r\"n\\’t\", \" not\", word)\n",
        "     word = re.sub(r\"\\’t\", \" not\", word)\n",
        "     word = re.sub(r\"\\’m\", \" am\", word)\n",
        "     word = re.sub(r\"\\’s\", \" is\", word)\n",
        "     return word"
      ],
      "metadata": {
        "id": "eQ7rujJRjfNg"
      },
      "execution_count": 17,
      "outputs": []
    },
    {
      "cell_type": "code",
      "source": [
        "# Because we will use bag of words, we convert all strings to lower case\n",
        "analysis_df['processed'] = analysis_df['text'].apply(lambda x: ' '.join(x.lower() for x in str(x).split()))\n",
        "\n",
        "# Substitute each contraction in the already lowercase review strings\n",
        "analysis_df['processed'] = analysis_df['processed'].apply(lambda x: get_canonized_contractions(x))\n",
        "\n",
        "# Keep only alphabetical chars\n",
        "alpha = '[^A-Za-z]+'\n",
        "analysis_df['processed'] = analysis_df['processed'].apply(lambda x: ' '.join(\n",
        "    [re.sub(alpha, '', x) for x in nltk.word_tokenize(x)]\n",
        "))\n",
        "\n",
        "# Remove any extra spaces between words\n",
        "analysis_df['processed'] = analysis_df['processed'].apply(lambda x: re.sub(' +', ' ', x))\n",
        "\n",
        "# Remove stop words based on the ones downloaded from nltk\n",
        "stop_words = stopwords.words('english')\n",
        "analysis_df['processed'] = analysis_df['processed'].apply(lambda x: ' '.join(\n",
        "    [x for x in x.split() if x not in stop_words]\n",
        "))\n",
        "\n",
        "# As a final processing step, use a lemmatizer\n",
        "# This will transform words in the following way:\n",
        "# dogs -> dog\n",
        "# abaci -> abacus\n",
        "# churches -> church\n",
        "lemmatizer = WordNetLemmatizer()\n",
        "analysis_df['processed'] = analysis_df['processed'].apply(lambda x: ' '.join(\n",
        "    [lemmatizer.lemmatize(word) for word in nltk.word_tokenize(x)]\n",
        "))"
      ],
      "metadata": {
        "id": "Tgu4apuIfwKX",
        "colab": {
          "base_uri": "https://localhost:8080/"
        },
        "outputId": "3857e728-a873-49d5-ce7e-7162ac7cbec9"
      },
      "execution_count": 18,
      "outputs": [
        {
          "output_type": "stream",
          "name": "stderr",
          "text": [
            "<ipython-input-18-edaad96e0c1e>:2: SettingWithCopyWarning: \n",
            "A value is trying to be set on a copy of a slice from a DataFrame.\n",
            "Try using .loc[row_indexer,col_indexer] = value instead\n",
            "\n",
            "See the caveats in the documentation: https://pandas.pydata.org/pandas-docs/stable/user_guide/indexing.html#returning-a-view-versus-a-copy\n",
            "  analysis_df['processed'] = analysis_df['text'].apply(lambda x: ' '.join(x.lower() for x in str(x).split()))\n",
            "<ipython-input-18-edaad96e0c1e>:5: SettingWithCopyWarning: \n",
            "A value is trying to be set on a copy of a slice from a DataFrame.\n",
            "Try using .loc[row_indexer,col_indexer] = value instead\n",
            "\n",
            "See the caveats in the documentation: https://pandas.pydata.org/pandas-docs/stable/user_guide/indexing.html#returning-a-view-versus-a-copy\n",
            "  analysis_df['processed'] = analysis_df['processed'].apply(lambda x: get_canonized_contractions(x))\n",
            "<ipython-input-18-edaad96e0c1e>:9: SettingWithCopyWarning: \n",
            "A value is trying to be set on a copy of a slice from a DataFrame.\n",
            "Try using .loc[row_indexer,col_indexer] = value instead\n",
            "\n",
            "See the caveats in the documentation: https://pandas.pydata.org/pandas-docs/stable/user_guide/indexing.html#returning-a-view-versus-a-copy\n",
            "  analysis_df['processed'] = analysis_df['processed'].apply(lambda x: ' '.join(\n",
            "<ipython-input-18-edaad96e0c1e>:14: SettingWithCopyWarning: \n",
            "A value is trying to be set on a copy of a slice from a DataFrame.\n",
            "Try using .loc[row_indexer,col_indexer] = value instead\n",
            "\n",
            "See the caveats in the documentation: https://pandas.pydata.org/pandas-docs/stable/user_guide/indexing.html#returning-a-view-versus-a-copy\n",
            "  analysis_df['processed'] = analysis_df['processed'].apply(lambda x: re.sub(' +', ' ', x))\n",
            "<ipython-input-18-edaad96e0c1e>:18: SettingWithCopyWarning: \n",
            "A value is trying to be set on a copy of a slice from a DataFrame.\n",
            "Try using .loc[row_indexer,col_indexer] = value instead\n",
            "\n",
            "See the caveats in the documentation: https://pandas.pydata.org/pandas-docs/stable/user_guide/indexing.html#returning-a-view-versus-a-copy\n",
            "  analysis_df['processed'] = analysis_df['processed'].apply(lambda x: ' '.join(\n",
            "<ipython-input-18-edaad96e0c1e>:28: SettingWithCopyWarning: \n",
            "A value is trying to be set on a copy of a slice from a DataFrame.\n",
            "Try using .loc[row_indexer,col_indexer] = value instead\n",
            "\n",
            "See the caveats in the documentation: https://pandas.pydata.org/pandas-docs/stable/user_guide/indexing.html#returning-a-view-versus-a-copy\n",
            "  analysis_df['processed'] = analysis_df['processed'].apply(lambda x: ' '.join(\n"
          ]
        }
      ]
    },
    {
      "cell_type": "code",
      "source": [
        "# Separate into A and B for an A/B test\n",
        "\n",
        "A = analysis_df['processed']\n",
        "B = analysis_df['sentiment']\n",
        "\n",
        "# Use sklern to split arrays into random train and test subsets\n",
        "# test_size = the proportion of the dataset to include in the test split\n",
        "# random_state = controls the shuffling applied to the data before applying the split\n",
        "A_train, A_test, B_train, B_test = train_test_split(A, B, test_size=0.2, stratify=B, random_state=45)\n",
        "\n",
        "print('A - Training step shape', A_train.shape)\n",
        "print('A - Test step shape', A_test.shape)\n",
        "\n",
        "print('B - Training step shape', B_train.shape)\n",
        "print('B - Test step shape', B_test.shape)"
      ],
      "metadata": {
        "id": "a3zso6YqjbSh",
        "colab": {
          "base_uri": "https://localhost:8080/"
        },
        "outputId": "cf046945-2191-4bf7-b1da-e6f9ed30eede"
      },
      "execution_count": 19,
      "outputs": [
        {
          "output_type": "stream",
          "name": "stdout",
          "text": [
            "A - Training step shape (100000,)\n",
            "A - Test step shape (25000,)\n",
            "B - Training step shape (100000,)\n",
            "B - Test step shape (25000,)\n"
          ]
        }
      ]
    },
    {
      "cell_type": "code",
      "source": [
        "# Convert a collection of raw documents to a matrix of TF-IDF features\n",
        "# that can be used as input to an estimator\n",
        "\n",
        "vectorizer = TfidfVectorizer()\n",
        "tf_A_train = vectorizer.fit_transform(A_train)\n",
        "tf_A_test = vectorizer.transform(A_test)"
      ],
      "metadata": {
        "id": "GOCtzMqEm1PB"
      },
      "execution_count": 20,
      "outputs": []
    },
    {
      "cell_type": "code",
      "source": [
        "# Build a report\n",
        "\n",
        "classification = LinearSVC(random_state = 0)\n",
        "\n",
        "# Fit the model according to the given training data\n",
        "classification.fit(tf_A_train, B_train)\n",
        "\n",
        "B_test_prediction = classification.predict(tf_A_test)\n",
        "\n",
        "report = classification_report(B_test, B_test_prediction, output_dict = True)\n",
        "\n",
        "pd.DataFrame(report)"
      ],
      "metadata": {
        "id": "Yaep6inmn34C",
        "colab": {
          "base_uri": "https://localhost:8080/",
          "height": 175
        },
        "outputId": "7eebd256-2e05-49a9-be23-c0cde5496e62"
      },
      "execution_count": 21,
      "outputs": [
        {
          "output_type": "execute_result",
          "data": {
            "text/plain": [
              "                     0             1  accuracy     macro avg  weighted avg\n",
              "precision     0.902303      0.935877   0.92532      0.919090      0.924875\n",
              "recall        0.865845      0.954307   0.92532      0.910076      0.925320\n",
              "f1-score      0.883698      0.945003   0.92532      0.914350      0.924914\n",
              "support    8192.000000  16808.000000   0.92532  25000.000000  25000.000000"
            ],
            "text/html": [
              "\n",
              "  <div id=\"df-68e0ad63-0982-4a87-a8fc-7f1173508b23\">\n",
              "    <div class=\"colab-df-container\">\n",
              "      <div>\n",
              "<style scoped>\n",
              "    .dataframe tbody tr th:only-of-type {\n",
              "        vertical-align: middle;\n",
              "    }\n",
              "\n",
              "    .dataframe tbody tr th {\n",
              "        vertical-align: top;\n",
              "    }\n",
              "\n",
              "    .dataframe thead th {\n",
              "        text-align: right;\n",
              "    }\n",
              "</style>\n",
              "<table border=\"1\" class=\"dataframe\">\n",
              "  <thead>\n",
              "    <tr style=\"text-align: right;\">\n",
              "      <th></th>\n",
              "      <th>0</th>\n",
              "      <th>1</th>\n",
              "      <th>accuracy</th>\n",
              "      <th>macro avg</th>\n",
              "      <th>weighted avg</th>\n",
              "    </tr>\n",
              "  </thead>\n",
              "  <tbody>\n",
              "    <tr>\n",
              "      <th>precision</th>\n",
              "      <td>0.902303</td>\n",
              "      <td>0.935877</td>\n",
              "      <td>0.92532</td>\n",
              "      <td>0.919090</td>\n",
              "      <td>0.924875</td>\n",
              "    </tr>\n",
              "    <tr>\n",
              "      <th>recall</th>\n",
              "      <td>0.865845</td>\n",
              "      <td>0.954307</td>\n",
              "      <td>0.92532</td>\n",
              "      <td>0.910076</td>\n",
              "      <td>0.925320</td>\n",
              "    </tr>\n",
              "    <tr>\n",
              "      <th>f1-score</th>\n",
              "      <td>0.883698</td>\n",
              "      <td>0.945003</td>\n",
              "      <td>0.92532</td>\n",
              "      <td>0.914350</td>\n",
              "      <td>0.924914</td>\n",
              "    </tr>\n",
              "    <tr>\n",
              "      <th>support</th>\n",
              "      <td>8192.000000</td>\n",
              "      <td>16808.000000</td>\n",
              "      <td>0.92532</td>\n",
              "      <td>25000.000000</td>\n",
              "      <td>25000.000000</td>\n",
              "    </tr>\n",
              "  </tbody>\n",
              "</table>\n",
              "</div>\n",
              "      <button class=\"colab-df-convert\" onclick=\"convertToInteractive('df-68e0ad63-0982-4a87-a8fc-7f1173508b23')\"\n",
              "              title=\"Convert this dataframe to an interactive table.\"\n",
              "              style=\"display:none;\">\n",
              "        \n",
              "  <svg xmlns=\"http://www.w3.org/2000/svg\" height=\"24px\"viewBox=\"0 0 24 24\"\n",
              "       width=\"24px\">\n",
              "    <path d=\"M0 0h24v24H0V0z\" fill=\"none\"/>\n",
              "    <path d=\"M18.56 5.44l.94 2.06.94-2.06 2.06-.94-2.06-.94-.94-2.06-.94 2.06-2.06.94zm-11 1L8.5 8.5l.94-2.06 2.06-.94-2.06-.94L8.5 2.5l-.94 2.06-2.06.94zm10 10l.94 2.06.94-2.06 2.06-.94-2.06-.94-.94-2.06-.94 2.06-2.06.94z\"/><path d=\"M17.41 7.96l-1.37-1.37c-.4-.4-.92-.59-1.43-.59-.52 0-1.04.2-1.43.59L10.3 9.45l-7.72 7.72c-.78.78-.78 2.05 0 2.83L4 21.41c.39.39.9.59 1.41.59.51 0 1.02-.2 1.41-.59l7.78-7.78 2.81-2.81c.8-.78.8-2.07 0-2.86zM5.41 20L4 18.59l7.72-7.72 1.47 1.35L5.41 20z\"/>\n",
              "  </svg>\n",
              "      </button>\n",
              "      \n",
              "  <style>\n",
              "    .colab-df-container {\n",
              "      display:flex;\n",
              "      flex-wrap:wrap;\n",
              "      gap: 12px;\n",
              "    }\n",
              "\n",
              "    .colab-df-convert {\n",
              "      background-color: #E8F0FE;\n",
              "      border: none;\n",
              "      border-radius: 50%;\n",
              "      cursor: pointer;\n",
              "      display: none;\n",
              "      fill: #1967D2;\n",
              "      height: 32px;\n",
              "      padding: 0 0 0 0;\n",
              "      width: 32px;\n",
              "    }\n",
              "\n",
              "    .colab-df-convert:hover {\n",
              "      background-color: #E2EBFA;\n",
              "      box-shadow: 0px 1px 2px rgba(60, 64, 67, 0.3), 0px 1px 3px 1px rgba(60, 64, 67, 0.15);\n",
              "      fill: #174EA6;\n",
              "    }\n",
              "\n",
              "    [theme=dark] .colab-df-convert {\n",
              "      background-color: #3B4455;\n",
              "      fill: #D2E3FC;\n",
              "    }\n",
              "\n",
              "    [theme=dark] .colab-df-convert:hover {\n",
              "      background-color: #434B5C;\n",
              "      box-shadow: 0px 1px 3px 1px rgba(0, 0, 0, 0.15);\n",
              "      filter: drop-shadow(0px 1px 2px rgba(0, 0, 0, 0.3));\n",
              "      fill: #FFFFFF;\n",
              "    }\n",
              "  </style>\n",
              "\n",
              "      <script>\n",
              "        const buttonEl =\n",
              "          document.querySelector('#df-68e0ad63-0982-4a87-a8fc-7f1173508b23 button.colab-df-convert');\n",
              "        buttonEl.style.display =\n",
              "          google.colab.kernel.accessAllowed ? 'block' : 'none';\n",
              "\n",
              "        async function convertToInteractive(key) {\n",
              "          const element = document.querySelector('#df-68e0ad63-0982-4a87-a8fc-7f1173508b23');\n",
              "          const dataTable =\n",
              "            await google.colab.kernel.invokeFunction('convertToInteractive',\n",
              "                                                     [key], {});\n",
              "          if (!dataTable) return;\n",
              "\n",
              "          const docLinkHtml = 'Like what you see? Visit the ' +\n",
              "            '<a target=\"_blank\" href=https://colab.research.google.com/notebooks/data_table.ipynb>data table notebook</a>'\n",
              "            + ' to learn more about interactive tables.';\n",
              "          element.innerHTML = '';\n",
              "          dataTable['output_type'] = 'display_data';\n",
              "          await google.colab.output.renderOutput(dataTable, element);\n",
              "          const docLink = document.createElement('div');\n",
              "          docLink.innerHTML = docLinkHtml;\n",
              "          element.appendChild(docLink);\n",
              "        }\n",
              "      </script>\n",
              "    </div>\n",
              "  </div>\n",
              "  "
            ]
          },
          "metadata": {},
          "execution_count": 21
        }
      ]
    },
    {
      "cell_type": "markdown",
      "source": [
        "### **8.1 Let's run some tests and evaluations**"
      ],
      "metadata": {
        "id": "ocHGdpLxpAUW"
      }
    },
    {
      "cell_type": "markdown",
      "source": [
        "### Positive Review"
      ],
      "metadata": {
        "id": "iWZOTQJ1qj0k"
      }
    },
    {
      "cell_type": "code",
      "source": [
        "# Positive review from the original dataset\n",
        "\n",
        "analysis_df['text'][1]"
      ],
      "metadata": {
        "id": "8EPbAXRvo_nv",
        "colab": {
          "base_uri": "https://localhost:8080/",
          "height": 35
        },
        "outputId": "109b4f64-bf58-4264-ebca-0485f9085e6a"
      },
      "execution_count": 22,
      "outputs": [
        {
          "output_type": "execute_result",
          "data": {
            "text/plain": [
              "\"Updating my review to add that my puppy is allowed in the store and always gets a treat and a pat on the head. It's his favorite place to shop next to Doggie Style - thanks Barbour!\""
            ],
            "application/vnd.google.colaboratory.intrinsic+json": {
              "type": "string"
            }
          },
          "metadata": {},
          "execution_count": 22
        }
      ]
    },
    {
      "cell_type": "code",
      "source": [
        "# The same positive review, from the processed column\n",
        "\n",
        "analysis_df['processed'][1]"
      ],
      "metadata": {
        "id": "ukEf5pjwpQ34",
        "colab": {
          "base_uri": "https://localhost:8080/",
          "height": 35
        },
        "outputId": "b0f2d387-c099-419f-b8d5-c290f94a9f94"
      },
      "execution_count": 23,
      "outputs": [
        {
          "output_type": "execute_result",
          "data": {
            "text/plain": [
              "'updating review add puppy allowed store always get treat pat head favorite place shop next doggie style thanks barbour'"
            ],
            "application/vnd.google.colaboratory.intrinsic+json": {
              "type": "string"
            }
          },
          "metadata": {},
          "execution_count": 23
        }
      ]
    },
    {
      "cell_type": "markdown",
      "source": [
        "Notice the stop words are gone and the main words stay\n",
        "\n",
        "---\n",
        "\n"
      ],
      "metadata": {
        "id": "78bHL74tpeZD"
      }
    },
    {
      "cell_type": "code",
      "source": [
        "positive_review = analysis_df['processed'][1]\n",
        "\n",
        "positive_review_transformed = vectorizer.transform([positive_review])\n",
        "\n",
        "positive_review_prediction = classification.predict(positive_review_transformed)\n",
        "\n",
        "positive_review_prediction"
      ],
      "metadata": {
        "id": "7_E7q1htpnAK",
        "colab": {
          "base_uri": "https://localhost:8080/"
        },
        "outputId": "6f9ba487-d1ab-4368-862c-006ca295046d"
      },
      "execution_count": 24,
      "outputs": [
        {
          "output_type": "execute_result",
          "data": {
            "text/plain": [
              "array([1])"
            ]
          },
          "metadata": {},
          "execution_count": 24
        }
      ]
    },
    {
      "cell_type": "markdown",
      "source": [
        "**The value '1' means we predicted positive, which is correct**"
      ],
      "metadata": {
        "id": "FfZoYVpTqeKF"
      }
    },
    {
      "cell_type": "markdown",
      "source": [
        "### Custom Positive Review"
      ],
      "metadata": {
        "id": "qna-qL_VrXYj"
      }
    },
    {
      "cell_type": "code",
      "source": [
        "# Very positive\n",
        "\n",
        "custom_pos_review = '''\n",
        "Excellent soondubu jjigae I had many coworkers from Korea recommend this restaurant, so that is how you know it is legit. I had pretty high expectations. \n",
        "I decided to try out their not spicy option. This is my first time ever trying soft tofu soup without any gochujang. It is definitely on the more salty and savory side.\n",
        "I got the seafood one (Haemul) and it came with squid, mini mussels, tiny shrimp, and one prawn. Not a ton of seafood.\n",
        "The soup was definitely dominated by the silken tofu, but that is how I prefer it. Of the side dishes, the pickled radish was my favorite.\n",
        "Normally I see this served with fried chicken, so I was pretty delighted to see it and it was cut into strips. The kimchi was tasty, but more spicy than your typical kimchi.\n",
        "'''\n",
        "\n",
        "custom_pos_review_transformed = vectorizer.transform([custom_pos_review])\n",
        "\n",
        "custom_pos_review_prediction = classification.predict(custom_pos_review_transformed)\n",
        "\n",
        "custom_pos_review_prediction"
      ],
      "metadata": {
        "id": "uyHeyMkDsAGM",
        "colab": {
          "base_uri": "https://localhost:8080/"
        },
        "outputId": "4e28b1e4-66d7-414d-9f53-ef12c63db727"
      },
      "execution_count": 25,
      "outputs": [
        {
          "output_type": "execute_result",
          "data": {
            "text/plain": [
              "array([1])"
            ]
          },
          "metadata": {},
          "execution_count": 25
        }
      ]
    },
    {
      "cell_type": "markdown",
      "source": [
        "**The value '1' means we predicted positive, which is correct**"
      ],
      "metadata": {
        "id": "Al9OJ8EGs1Mn"
      }
    },
    {
      "cell_type": "code",
      "source": [
        "# Dubiously positive (4 stars or more)\n",
        "\n",
        "custom_pos_review = '''\n",
        "Fish and chips for $10.50 in the bay area. I can't complain.\n",
        "Just across the street there is a disgusting seafood restaurant.\n",
        "They don't seem to even wash their hands, and seafood is not fresh.\n",
        "But this place lives up to the expectations. Good food, gotta love it\n",
        "'''\n",
        "\n",
        "custom_pos_review_transformed = vectorizer.transform([custom_pos_review])\n",
        "\n",
        "custom_pos_review_prediction = classification.predict(custom_pos_review_transformed)\n",
        "\n",
        "custom_pos_review_prediction"
      ],
      "metadata": {
        "id": "GnXJJ2gvty2u",
        "colab": {
          "base_uri": "https://localhost:8080/"
        },
        "outputId": "8fee94fd-7ddb-4a98-d141-566f61d0bb8f"
      },
      "execution_count": 26,
      "outputs": [
        {
          "output_type": "execute_result",
          "data": {
            "text/plain": [
              "array([1])"
            ]
          },
          "metadata": {},
          "execution_count": 26
        }
      ]
    },
    {
      "cell_type": "markdown",
      "source": [
        "**The value '1' means we predicted positive, which is correct**"
      ],
      "metadata": {
        "id": "cIxQn03rvTBo"
      }
    },
    {
      "cell_type": "markdown",
      "source": [
        "### Negative Review"
      ],
      "metadata": {
        "id": "ZrGBinPTqmgo"
      }
    },
    {
      "cell_type": "code",
      "source": [
        "# Negative review from the original dataset\n",
        "\n",
        "analysis_df['text'][6]"
      ],
      "metadata": {
        "id": "UAdlLR31qoYL",
        "colab": {
          "base_uri": "https://localhost:8080/",
          "height": 53
        },
        "outputId": "1a6ca32c-2637-4b7f-beec-3f903711e578"
      },
      "execution_count": 27,
      "outputs": [
        {
          "output_type": "execute_result",
          "data": {
            "text/plain": [
              "'The service was really well meaning, but awkward. Our table was the worst in the whole restaurant, even though there were many empty tables around us. The silverware was not cleaned properly, and had hair in it as well. The one redeeming quality was that the food was decent, but it was not spectacular.'"
            ],
            "application/vnd.google.colaboratory.intrinsic+json": {
              "type": "string"
            }
          },
          "metadata": {},
          "execution_count": 27
        }
      ]
    },
    {
      "cell_type": "code",
      "source": [
        "# The same negative review, from the processed column\n",
        "\n",
        "analysis_df['processed'][6]"
      ],
      "metadata": {
        "id": "8vmYVW1-q1Xx",
        "colab": {
          "base_uri": "https://localhost:8080/",
          "height": 35
        },
        "outputId": "1f21655e-ffdb-4eb2-9007-1bb6550924ab"
      },
      "execution_count": 28,
      "outputs": [
        {
          "output_type": "execute_result",
          "data": {
            "text/plain": [
              "'service really well meaning awkward table worst whole restaurant even though many empty table around u silverware cleaned properly hair well one redeeming quality food decent spectacular'"
            ],
            "application/vnd.google.colaboratory.intrinsic+json": {
              "type": "string"
            }
          },
          "metadata": {},
          "execution_count": 28
        }
      ]
    },
    {
      "cell_type": "code",
      "source": [
        "negative_review = analysis_df['processed'][1]\n",
        "\n",
        "negative_review_transformed = vectorizer.transform([negative_review])\n",
        "\n",
        "negative_review_prediction = classification.predict(negative_review_transformed)\n",
        "\n",
        "negative_review_prediction"
      ],
      "metadata": {
        "id": "64bqF7NXq_0z",
        "colab": {
          "base_uri": "https://localhost:8080/"
        },
        "outputId": "28f3e8ef-abb8-4ba5-96e0-1a3baf9c8014"
      },
      "execution_count": 29,
      "outputs": [
        {
          "output_type": "execute_result",
          "data": {
            "text/plain": [
              "array([1])"
            ]
          },
          "metadata": {},
          "execution_count": 29
        }
      ]
    },
    {
      "cell_type": "markdown",
      "source": [
        "**The value '1' means we predicted positive, which is incorrect**\n",
        "\n"
      ],
      "metadata": {
        "id": "zW831uXQrO8L"
      }
    },
    {
      "cell_type": "markdown",
      "source": [
        "### Custom Negative Review"
      ],
      "metadata": {
        "id": "E9KF1vI3rbGk"
      }
    },
    {
      "cell_type": "code",
      "source": [
        "# Very negative\n",
        "\n",
        "custom_negative_review = '''\n",
        "I was highly disappointed on my last visit there last night.\n",
        "May have a talk with the manager. Use to love this place.\n",
        "Now thinking I don't need to go here again. They were very busy.\n",
        "Very disorganized and need stronger management leadership.\n",
        "Food was overcooked and Very Small portions.\n",
        "Added roasted asparagus for $3 and only got 3 stocks!\n",
        "Just overall a bad experience.\n",
        "'''\n",
        "\n",
        "custom_negative_review_transformed = vectorizer.transform([custom_negative_review])\n",
        "\n",
        "custom_negative_review_prediction = classification.predict(custom_negative_review_transformed)\n",
        "\n",
        "custom_negative_review_prediction"
      ],
      "metadata": {
        "id": "vP1qsmvGs7gA",
        "colab": {
          "base_uri": "https://localhost:8080/"
        },
        "outputId": "dfa018dd-932c-4e3b-b423-0f0ab1c73777"
      },
      "execution_count": 30,
      "outputs": [
        {
          "output_type": "execute_result",
          "data": {
            "text/plain": [
              "array([0])"
            ]
          },
          "metadata": {},
          "execution_count": 30
        }
      ]
    },
    {
      "cell_type": "markdown",
      "source": [
        "**The value '0' means we predicted negative, which is correct**\n"
      ],
      "metadata": {
        "id": "Iptqjfpjtm13"
      }
    },
    {
      "cell_type": "code",
      "source": [
        "# Dubiously negative (less than 3 stars)\n",
        "\n",
        "custom_negative_review = '''\n",
        "Updated my reviews. Food is still good. But they keep missing side orders.\n",
        "At least twice this happened to me. It's annoying but I keep coming anyway\n",
        "'''\n",
        "\n",
        "custom_negative_review_transformed = vectorizer.transform([custom_negative_review])\n",
        "\n",
        "custom_negative_review_prediction = classification.predict(custom_negative_review_transformed)\n",
        "\n",
        "custom_negative_review_prediction"
      ],
      "metadata": {
        "id": "B9HOumQ4tQHc",
        "colab": {
          "base_uri": "https://localhost:8080/"
        },
        "outputId": "1b9d74c2-2dca-4aa1-c90e-a4007726c16c"
      },
      "execution_count": 31,
      "outputs": [
        {
          "output_type": "execute_result",
          "data": {
            "text/plain": [
              "array([0])"
            ]
          },
          "metadata": {},
          "execution_count": 31
        }
      ]
    },
    {
      "cell_type": "markdown",
      "source": [
        "**The value '0' means we predicted negative, which is correct**\n"
      ],
      "metadata": {
        "id": "-p7kYyj0uKiY"
      }
    },
    {
      "cell_type": "markdown",
      "source": [
        "### Custom Neutral Review"
      ],
      "metadata": {
        "id": "vdVzn41QwHDh"
      }
    },
    {
      "cell_type": "code",
      "source": [
        "# Neutral\n",
        "\n",
        "custom_neutral_review = '''\n",
        "This place is alright. Price is okay and food is normal. Not bad, not great. Service is pretty good though.\n",
        "'''\n",
        "\n",
        "custom_neutral_review_transformed = vectorizer.transform([custom_neutral_review])\n",
        "\n",
        "custom_neutral_review_prediction = classification.predict(custom_neutral_review_transformed)\n",
        "\n",
        "custom_neutral_review_prediction"
      ],
      "metadata": {
        "id": "rZCcDdJdwJCP",
        "colab": {
          "base_uri": "https://localhost:8080/"
        },
        "outputId": "6e82e96b-6d8b-4481-de51-0f15cef19036"
      },
      "execution_count": 32,
      "outputs": [
        {
          "output_type": "execute_result",
          "data": {
            "text/plain": [
              "array([0])"
            ]
          },
          "metadata": {},
          "execution_count": 32
        }
      ]
    },
    {
      "cell_type": "markdown",
      "source": [
        "Although it was neutral leaning towards positive, the model predicted '0' negative"
      ],
      "metadata": {
        "id": "9K5FBPS1wd9B"
      }
    },
    {
      "cell_type": "markdown",
      "source": [
        "## Analysis\n",
        "\n",
        "\n"
      ],
      "metadata": {
        "id": "aa7uXnDQvrLc"
      }
    },
    {
      "cell_type": "code",
      "source": [
        "pd.DataFrame(report)"
      ],
      "metadata": {
        "id": "w4faxqMev4e0",
        "colab": {
          "base_uri": "https://localhost:8080/",
          "height": 175
        },
        "outputId": "07972074-20c5-4ee7-e6b7-c289e8f9c601"
      },
      "execution_count": 33,
      "outputs": [
        {
          "output_type": "execute_result",
          "data": {
            "text/plain": [
              "                     0             1  accuracy     macro avg  weighted avg\n",
              "precision     0.902303      0.935877   0.92532      0.919090      0.924875\n",
              "recall        0.865845      0.954307   0.92532      0.910076      0.925320\n",
              "f1-score      0.883698      0.945003   0.92532      0.914350      0.924914\n",
              "support    8192.000000  16808.000000   0.92532  25000.000000  25000.000000"
            ],
            "text/html": [
              "\n",
              "  <div id=\"df-80ba34d4-790a-4468-8a6d-851e7777f8eb\">\n",
              "    <div class=\"colab-df-container\">\n",
              "      <div>\n",
              "<style scoped>\n",
              "    .dataframe tbody tr th:only-of-type {\n",
              "        vertical-align: middle;\n",
              "    }\n",
              "\n",
              "    .dataframe tbody tr th {\n",
              "        vertical-align: top;\n",
              "    }\n",
              "\n",
              "    .dataframe thead th {\n",
              "        text-align: right;\n",
              "    }\n",
              "</style>\n",
              "<table border=\"1\" class=\"dataframe\">\n",
              "  <thead>\n",
              "    <tr style=\"text-align: right;\">\n",
              "      <th></th>\n",
              "      <th>0</th>\n",
              "      <th>1</th>\n",
              "      <th>accuracy</th>\n",
              "      <th>macro avg</th>\n",
              "      <th>weighted avg</th>\n",
              "    </tr>\n",
              "  </thead>\n",
              "  <tbody>\n",
              "    <tr>\n",
              "      <th>precision</th>\n",
              "      <td>0.902303</td>\n",
              "      <td>0.935877</td>\n",
              "      <td>0.92532</td>\n",
              "      <td>0.919090</td>\n",
              "      <td>0.924875</td>\n",
              "    </tr>\n",
              "    <tr>\n",
              "      <th>recall</th>\n",
              "      <td>0.865845</td>\n",
              "      <td>0.954307</td>\n",
              "      <td>0.92532</td>\n",
              "      <td>0.910076</td>\n",
              "      <td>0.925320</td>\n",
              "    </tr>\n",
              "    <tr>\n",
              "      <th>f1-score</th>\n",
              "      <td>0.883698</td>\n",
              "      <td>0.945003</td>\n",
              "      <td>0.92532</td>\n",
              "      <td>0.914350</td>\n",
              "      <td>0.924914</td>\n",
              "    </tr>\n",
              "    <tr>\n",
              "      <th>support</th>\n",
              "      <td>8192.000000</td>\n",
              "      <td>16808.000000</td>\n",
              "      <td>0.92532</td>\n",
              "      <td>25000.000000</td>\n",
              "      <td>25000.000000</td>\n",
              "    </tr>\n",
              "  </tbody>\n",
              "</table>\n",
              "</div>\n",
              "      <button class=\"colab-df-convert\" onclick=\"convertToInteractive('df-80ba34d4-790a-4468-8a6d-851e7777f8eb')\"\n",
              "              title=\"Convert this dataframe to an interactive table.\"\n",
              "              style=\"display:none;\">\n",
              "        \n",
              "  <svg xmlns=\"http://www.w3.org/2000/svg\" height=\"24px\"viewBox=\"0 0 24 24\"\n",
              "       width=\"24px\">\n",
              "    <path d=\"M0 0h24v24H0V0z\" fill=\"none\"/>\n",
              "    <path d=\"M18.56 5.44l.94 2.06.94-2.06 2.06-.94-2.06-.94-.94-2.06-.94 2.06-2.06.94zm-11 1L8.5 8.5l.94-2.06 2.06-.94-2.06-.94L8.5 2.5l-.94 2.06-2.06.94zm10 10l.94 2.06.94-2.06 2.06-.94-2.06-.94-.94-2.06-.94 2.06-2.06.94z\"/><path d=\"M17.41 7.96l-1.37-1.37c-.4-.4-.92-.59-1.43-.59-.52 0-1.04.2-1.43.59L10.3 9.45l-7.72 7.72c-.78.78-.78 2.05 0 2.83L4 21.41c.39.39.9.59 1.41.59.51 0 1.02-.2 1.41-.59l7.78-7.78 2.81-2.81c.8-.78.8-2.07 0-2.86zM5.41 20L4 18.59l7.72-7.72 1.47 1.35L5.41 20z\"/>\n",
              "  </svg>\n",
              "      </button>\n",
              "      \n",
              "  <style>\n",
              "    .colab-df-container {\n",
              "      display:flex;\n",
              "      flex-wrap:wrap;\n",
              "      gap: 12px;\n",
              "    }\n",
              "\n",
              "    .colab-df-convert {\n",
              "      background-color: #E8F0FE;\n",
              "      border: none;\n",
              "      border-radius: 50%;\n",
              "      cursor: pointer;\n",
              "      display: none;\n",
              "      fill: #1967D2;\n",
              "      height: 32px;\n",
              "      padding: 0 0 0 0;\n",
              "      width: 32px;\n",
              "    }\n",
              "\n",
              "    .colab-df-convert:hover {\n",
              "      background-color: #E2EBFA;\n",
              "      box-shadow: 0px 1px 2px rgba(60, 64, 67, 0.3), 0px 1px 3px 1px rgba(60, 64, 67, 0.15);\n",
              "      fill: #174EA6;\n",
              "    }\n",
              "\n",
              "    [theme=dark] .colab-df-convert {\n",
              "      background-color: #3B4455;\n",
              "      fill: #D2E3FC;\n",
              "    }\n",
              "\n",
              "    [theme=dark] .colab-df-convert:hover {\n",
              "      background-color: #434B5C;\n",
              "      box-shadow: 0px 1px 3px 1px rgba(0, 0, 0, 0.15);\n",
              "      filter: drop-shadow(0px 1px 2px rgba(0, 0, 0, 0.3));\n",
              "      fill: #FFFFFF;\n",
              "    }\n",
              "  </style>\n",
              "\n",
              "      <script>\n",
              "        const buttonEl =\n",
              "          document.querySelector('#df-80ba34d4-790a-4468-8a6d-851e7777f8eb button.colab-df-convert');\n",
              "        buttonEl.style.display =\n",
              "          google.colab.kernel.accessAllowed ? 'block' : 'none';\n",
              "\n",
              "        async function convertToInteractive(key) {\n",
              "          const element = document.querySelector('#df-80ba34d4-790a-4468-8a6d-851e7777f8eb');\n",
              "          const dataTable =\n",
              "            await google.colab.kernel.invokeFunction('convertToInteractive',\n",
              "                                                     [key], {});\n",
              "          if (!dataTable) return;\n",
              "\n",
              "          const docLinkHtml = 'Like what you see? Visit the ' +\n",
              "            '<a target=\"_blank\" href=https://colab.research.google.com/notebooks/data_table.ipynb>data table notebook</a>'\n",
              "            + ' to learn more about interactive tables.';\n",
              "          element.innerHTML = '';\n",
              "          dataTable['output_type'] = 'display_data';\n",
              "          await google.colab.output.renderOutput(dataTable, element);\n",
              "          const docLink = document.createElement('div');\n",
              "          docLink.innerHTML = docLinkHtml;\n",
              "          element.appendChild(docLink);\n",
              "        }\n",
              "      </script>\n",
              "    </div>\n",
              "  </div>\n",
              "  "
            ]
          },
          "metadata": {},
          "execution_count": 33
        }
      ]
    },
    {
      "cell_type": "markdown",
      "source": [
        "1.  This model has accuracy of ~92%\n",
        "\n",
        "2.  Negative reviews were more difficult to predict\n",
        "\n",
        "    Positive - 93% accuracy\n",
        "\n",
        "    Negative - 89% accuracy\n",
        "\n",
        "3. This model accurately predicted 2 custom positive reviews, and 1 negative review, and tends to lean towards negative given a neutral review"
      ],
      "metadata": {
        "id": "f0dxFYqxv8uk"
      }
    },
    {
      "cell_type": "markdown",
      "source": [
        "# 9. Environment take down\n"
      ],
      "metadata": {
        "id": "AQmUIfF0wJjB"
      }
    },
    {
      "cell_type": "code",
      "source": [
        "# Uncomment and run the code below to remove downloaded files from the environment\n",
        "\n",
        "# !rm yelp_businesses.json\n",
        "# !rm yelp_reviews.json"
      ],
      "metadata": {
        "id": "yXwahrSLwP8k"
      },
      "execution_count": 34,
      "outputs": []
    }
  ]
}