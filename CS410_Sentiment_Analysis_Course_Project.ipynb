{
  "nbformat": 4,
  "nbformat_minor": 0,
  "metadata": {
    "colab": {
      "provenance": [],
      "collapsed_sections": [
        "AUvyWrUo_eIT"
      ],
      "authorship_tag": "ABX9TyM3Q+CUL/BbS7/irR3w0IYK",
      "include_colab_link": true
    },
    "kernelspec": {
      "name": "python3",
      "display_name": "Python 3"
    },
    "language_info": {
      "name": "python"
    },
    "gpuClass": "standard"
  },
  "cells": [
    {
      "cell_type": "markdown",
      "metadata": {
        "id": "view-in-github",
        "colab_type": "text"
      },
      "source": [
        "<a href=\"https://colab.research.google.com/github/gabecoelho/CS410-CourseProject/blob/main/CS410_Sentiment_Analysis_Course_Project.ipynb\" target=\"_parent\"><img src=\"https://colab.research.google.com/assets/colab-badge.svg\" alt=\"Open In Colab\"/></a>"
      ]
    },
    {
      "cell_type": "markdown",
      "source": [
        "# Yelp Data - Business Review Sentiment Analysis"
      ],
      "metadata": {
        "id": "9uLrTWQ1_DAU"
      }
    },
    {
      "cell_type": "markdown",
      "source": [
        "## 1. Topics to be explored\n",
        "\n",
        "1. Business categories\n",
        "2. Number of stars in reviews\n",
        "3. Number of businesses open and closed\n",
        "4. Sentiment analysis on all reviews"
      ],
      "metadata": {
        "id": "AUvyWrUo_eIT"
      }
    },
    {
      "cell_type": "markdown",
      "source": [
        "## 2. Start by downloading files and importing libraries for reading the data"
      ],
      "metadata": {
        "id": "zXCJ_SNA_KVN"
      }
    },
    {
      "cell_type": "code",
      "source": [
        "# Download files\n",
        "\n",
        "# Business data\n",
        "!wget -q --show-progress --load-cookies /tmp/cookies.txt \"https://docs.google.com/uc?export=download&confirm=$(wget --quiet --save-cookies /tmp/cookies.txt --keep-session-cookies --no-check-certificate 'https://docs.google.com/uc?export=download&id=1vCSG6KgUYo0wpn2_8-tb0YZhMgY4wk1h' -O- | sed -rn 's/.*confirm=([0-9A-Za-z_]+).*/\\1\\n/p')&id=1vCSG6KgUYo0wpn2_8-tb0YZhMgY4wk1h\" -O yelp_businesses.json && rm -rf /tmp/cookies.txt"
      ],
      "metadata": {
        "colab": {
          "base_uri": "https://localhost:8080/"
        },
        "id": "K_9AZteSkBSI",
        "outputId": "de99b1c6-98da-48e8-e7fa-4a38d694aeeb"
      },
      "execution_count": 16,
      "outputs": [
        {
          "output_type": "stream",
          "name": "stdout",
          "text": [
            "yelp_businesses.jso 100%[===================>] 113.36M   267MB/s    in 0.4s    \n"
          ]
        }
      ]
    },
    {
      "cell_type": "code",
      "source": [
        "# Reviews data\n",
        "!wget -q --show-progress --load-cookies /tmp/cookies.txt \"https://docs.google.com/uc?export=download&confirm=$(wget --quiet --save-cookies /tmp/cookies.txt --keep-session-cookies --no-check-certificate 'https://docs.google.com/uc?export=download&id=1GuxASYHSWWtGhaCJeh57WCA3RKsjJzaO' -O- | sed -rn 's/.*confirm=([0-9A-Za-z_]+).*/\\1\\n/p')&id=1GuxASYHSWWtGhaCJeh57WCA3RKsjJzaO\" -O yelp_reviews.json && rm -rf /tmp/cookies.txt\n"
      ],
      "metadata": {
        "id": "ckALnmh7V1Wf"
      },
      "execution_count": 15,
      "outputs": []
    },
    {
      "cell_type": "code",
      "execution_count": 17,
      "metadata": {
        "id": "1osuW9_J3R8V"
      },
      "outputs": [],
      "source": [
        "# General data analysis libraries\n",
        "import pandas as pd\n",
        "import numpy as np\n",
        "import matplotlib.pyplot as plt\n",
        "import seaborn as sns\n",
        "\n",
        "plt.style.use('ggplot')\n",
        "\n",
        "# Reviews data types\n",
        "review_dtypes = {\n",
        "    'stars': np.float16\n",
        "}\n",
        "\n",
        "business_dtypes = {\n",
        "    'is_open': np.bool8\n",
        "}\n",
        "\n",
        "reviews_data = pd.read_json('yelp_reviews.json',\n",
        "                            lines=True,\n",
        "                            chunksize=2000,\n",
        "                            dtype=review_dtypes,\n",
        "                            orient='records')\n",
        "\n",
        "business_df = pd.read_json('yelp_businesses.json',\n",
        "                           lines=True,\n",
        "                           dtype=business_dtypes)"
      ]
    },
    {
      "cell_type": "markdown",
      "source": [
        "### Only looking at data from 2018 and beyond"
      ],
      "metadata": {
        "id": "P95SFT6EX58r"
      }
    },
    {
      "cell_type": "code",
      "source": [
        "# Reviews chunk storage\n",
        "reviews_chunks = []\n",
        "\n",
        "for chunk in reviews_data:\n",
        "  # Drop unused columns and start from 2018 onward\n",
        "  min_chunk = chunk.drop(columns=['user_id', 'review_id']).query(\"`date` >= '2018-01-01'\")\n",
        "  reviews_chunks.append(min_chunk)\n",
        "\n",
        "reviews_df = pd.concat(reviews_chunks, ignore_index=True)"
      ],
      "metadata": {
        "id": "QfFK5NI1_cb_",
        "colab": {
          "base_uri": "https://localhost:8080/",
          "height": 364
        },
        "outputId": "dce80c7c-50f5-4b7a-c160-b7a8d804add4"
      },
      "execution_count": 18,
      "outputs": [
        {
          "output_type": "error",
          "ename": "ValueError",
          "evalue": "ignored",
          "traceback": [
            "\u001b[0;31m---------------------------------------------------------------------------\u001b[0m",
            "\u001b[0;31mValueError\u001b[0m                                Traceback (most recent call last)",
            "\u001b[0;32m<ipython-input-18-ba880d25eeab>\u001b[0m in \u001b[0;36m<module>\u001b[0;34m\u001b[0m\n\u001b[1;32m      7\u001b[0m   \u001b[0mreviews_chunks\u001b[0m\u001b[0;34m.\u001b[0m\u001b[0mappend\u001b[0m\u001b[0;34m(\u001b[0m\u001b[0mmin_chunk\u001b[0m\u001b[0;34m)\u001b[0m\u001b[0;34m\u001b[0m\u001b[0;34m\u001b[0m\u001b[0m\n\u001b[1;32m      8\u001b[0m \u001b[0;34m\u001b[0m\u001b[0m\n\u001b[0;32m----> 9\u001b[0;31m \u001b[0mreviews_df\u001b[0m \u001b[0;34m=\u001b[0m \u001b[0mpd\u001b[0m\u001b[0;34m.\u001b[0m\u001b[0mconcat\u001b[0m\u001b[0;34m(\u001b[0m\u001b[0mreviews_chunks\u001b[0m\u001b[0;34m,\u001b[0m \u001b[0mignore_index\u001b[0m\u001b[0;34m=\u001b[0m\u001b[0;32mTrue\u001b[0m\u001b[0;34m)\u001b[0m\u001b[0;34m\u001b[0m\u001b[0;34m\u001b[0m\u001b[0m\n\u001b[0m",
            "\u001b[0;32m/usr/local/lib/python3.8/dist-packages/pandas/util/_decorators.py\u001b[0m in \u001b[0;36mwrapper\u001b[0;34m(*args, **kwargs)\u001b[0m\n\u001b[1;32m    309\u001b[0m                     \u001b[0mstacklevel\u001b[0m\u001b[0;34m=\u001b[0m\u001b[0mstacklevel\u001b[0m\u001b[0;34m,\u001b[0m\u001b[0;34m\u001b[0m\u001b[0;34m\u001b[0m\u001b[0m\n\u001b[1;32m    310\u001b[0m                 )\n\u001b[0;32m--> 311\u001b[0;31m             \u001b[0;32mreturn\u001b[0m \u001b[0mfunc\u001b[0m\u001b[0;34m(\u001b[0m\u001b[0;34m*\u001b[0m\u001b[0margs\u001b[0m\u001b[0;34m,\u001b[0m \u001b[0;34m**\u001b[0m\u001b[0mkwargs\u001b[0m\u001b[0;34m)\u001b[0m\u001b[0;34m\u001b[0m\u001b[0;34m\u001b[0m\u001b[0m\n\u001b[0m\u001b[1;32m    312\u001b[0m \u001b[0;34m\u001b[0m\u001b[0m\n\u001b[1;32m    313\u001b[0m         \u001b[0;32mreturn\u001b[0m \u001b[0mwrapper\u001b[0m\u001b[0;34m\u001b[0m\u001b[0;34m\u001b[0m\u001b[0m\n",
            "\u001b[0;32m/usr/local/lib/python3.8/dist-packages/pandas/core/reshape/concat.py\u001b[0m in \u001b[0;36mconcat\u001b[0;34m(objs, axis, join, ignore_index, keys, levels, names, verify_integrity, sort, copy)\u001b[0m\n\u001b[1;32m    292\u001b[0m     \u001b[0mValueError\u001b[0m\u001b[0;34m:\u001b[0m \u001b[0mIndexes\u001b[0m \u001b[0mhave\u001b[0m \u001b[0moverlapping\u001b[0m \u001b[0mvalues\u001b[0m\u001b[0;34m:\u001b[0m \u001b[0;34m[\u001b[0m\u001b[0;34m'a'\u001b[0m\u001b[0;34m]\u001b[0m\u001b[0;34m\u001b[0m\u001b[0;34m\u001b[0m\u001b[0m\n\u001b[1;32m    293\u001b[0m     \"\"\"\n\u001b[0;32m--> 294\u001b[0;31m     op = _Concatenator(\n\u001b[0m\u001b[1;32m    295\u001b[0m         \u001b[0mobjs\u001b[0m\u001b[0;34m,\u001b[0m\u001b[0;34m\u001b[0m\u001b[0;34m\u001b[0m\u001b[0m\n\u001b[1;32m    296\u001b[0m         \u001b[0maxis\u001b[0m\u001b[0;34m=\u001b[0m\u001b[0maxis\u001b[0m\u001b[0;34m,\u001b[0m\u001b[0;34m\u001b[0m\u001b[0;34m\u001b[0m\u001b[0m\n",
            "\u001b[0;32m/usr/local/lib/python3.8/dist-packages/pandas/core/reshape/concat.py\u001b[0m in \u001b[0;36m__init__\u001b[0;34m(self, objs, axis, join, keys, levels, names, ignore_index, verify_integrity, copy, sort)\u001b[0m\n\u001b[1;32m    349\u001b[0m \u001b[0;34m\u001b[0m\u001b[0m\n\u001b[1;32m    350\u001b[0m         \u001b[0;32mif\u001b[0m \u001b[0mlen\u001b[0m\u001b[0;34m(\u001b[0m\u001b[0mobjs\u001b[0m\u001b[0;34m)\u001b[0m \u001b[0;34m==\u001b[0m \u001b[0;36m0\u001b[0m\u001b[0;34m:\u001b[0m\u001b[0;34m\u001b[0m\u001b[0;34m\u001b[0m\u001b[0m\n\u001b[0;32m--> 351\u001b[0;31m             \u001b[0;32mraise\u001b[0m \u001b[0mValueError\u001b[0m\u001b[0;34m(\u001b[0m\u001b[0;34m\"No objects to concatenate\"\u001b[0m\u001b[0;34m)\u001b[0m\u001b[0;34m\u001b[0m\u001b[0;34m\u001b[0m\u001b[0m\n\u001b[0m\u001b[1;32m    352\u001b[0m \u001b[0;34m\u001b[0m\u001b[0m\n\u001b[1;32m    353\u001b[0m         \u001b[0;32mif\u001b[0m \u001b[0mkeys\u001b[0m \u001b[0;32mis\u001b[0m \u001b[0;32mNone\u001b[0m\u001b[0;34m:\u001b[0m\u001b[0;34m\u001b[0m\u001b[0;34m\u001b[0m\u001b[0m\n",
            "\u001b[0;31mValueError\u001b[0m: No objects to concatenate"
          ]
        }
      ]
    },
    {
      "cell_type": "markdown",
      "source": [
        "Sample the business data"
      ],
      "metadata": {
        "id": "K4HEHD68Zhep"
      }
    },
    {
      "cell_type": "code",
      "source": [
        "business_df.head(5)"
      ],
      "metadata": {
        "id": "Y42luJ3XZhyT",
        "colab": {
          "base_uri": "https://localhost:8080/",
          "height": 600
        },
        "outputId": "8871e77e-aa21-42c7-f4c1-3b58d181caf6"
      },
      "execution_count": 19,
      "outputs": [
        {
          "output_type": "execute_result",
          "data": {
            "text/plain": [
              "              business_id                      name  \\\n",
              "0  Pns2l4eNsfO8kk83dixA6A  Abby Rappoport, LAC, CMQ   \n",
              "1  mpf3x-BjTdTEA3yCZrAYPw             The UPS Store   \n",
              "2  tUFrWirKiKi_TAnsVWINQQ                    Target   \n",
              "3  MTSW4McQd7CbVtyjqoe9mw        St Honore Pastries   \n",
              "4  mWMc6_wTdE0EUBKIGXDVfA  Perkiomen Valley Brewery   \n",
              "\n",
              "                           address           city state postal_code  \\\n",
              "0           1616 Chapala St, Ste 2  Santa Barbara    CA       93101   \n",
              "1  87 Grasso Plaza Shopping Center         Affton    MO       63123   \n",
              "2             5255 E Broadway Blvd         Tucson    AZ       85711   \n",
              "3                      935 Race St   Philadelphia    PA       19107   \n",
              "4                    101 Walnut St     Green Lane    PA       18054   \n",
              "\n",
              "    latitude   longitude  stars  review_count  is_open  \\\n",
              "0  34.426679 -119.711197    5.0             7    False   \n",
              "1  38.551126  -90.335695    3.0            15     True   \n",
              "2  32.223236 -110.880452    3.5            22    False   \n",
              "3  39.955505  -75.155564    4.0            80     True   \n",
              "4  40.338183  -75.471659    4.5            13     True   \n",
              "\n",
              "                                          attributes  \\\n",
              "0                      {'ByAppointmentOnly': 'True'}   \n",
              "1             {'BusinessAcceptsCreditCards': 'True'}   \n",
              "2  {'BikeParking': 'True', 'BusinessAcceptsCredit...   \n",
              "3  {'RestaurantsDelivery': 'False', 'OutdoorSeati...   \n",
              "4  {'BusinessAcceptsCreditCards': 'True', 'Wheelc...   \n",
              "\n",
              "                                          categories  \\\n",
              "0  Doctors, Traditional Chinese Medicine, Naturop...   \n",
              "1  Shipping Centers, Local Services, Notaries, Ma...   \n",
              "2  Department Stores, Shopping, Fashion, Home & G...   \n",
              "3  Restaurants, Food, Bubble Tea, Coffee & Tea, B...   \n",
              "4                          Brewpubs, Breweries, Food   \n",
              "\n",
              "                                               hours  \n",
              "0                                               None  \n",
              "1  {'Monday': '0:0-0:0', 'Tuesday': '8:0-18:30', ...  \n",
              "2  {'Monday': '8:0-22:0', 'Tuesday': '8:0-22:0', ...  \n",
              "3  {'Monday': '7:0-20:0', 'Tuesday': '7:0-20:0', ...  \n",
              "4  {'Wednesday': '14:0-22:0', 'Thursday': '16:0-2...  "
            ],
            "text/html": [
              "\n",
              "  <div id=\"df-bd532fd3-d8ef-4c67-b0fe-649393ae7efe\">\n",
              "    <div class=\"colab-df-container\">\n",
              "      <div>\n",
              "<style scoped>\n",
              "    .dataframe tbody tr th:only-of-type {\n",
              "        vertical-align: middle;\n",
              "    }\n",
              "\n",
              "    .dataframe tbody tr th {\n",
              "        vertical-align: top;\n",
              "    }\n",
              "\n",
              "    .dataframe thead th {\n",
              "        text-align: right;\n",
              "    }\n",
              "</style>\n",
              "<table border=\"1\" class=\"dataframe\">\n",
              "  <thead>\n",
              "    <tr style=\"text-align: right;\">\n",
              "      <th></th>\n",
              "      <th>business_id</th>\n",
              "      <th>name</th>\n",
              "      <th>address</th>\n",
              "      <th>city</th>\n",
              "      <th>state</th>\n",
              "      <th>postal_code</th>\n",
              "      <th>latitude</th>\n",
              "      <th>longitude</th>\n",
              "      <th>stars</th>\n",
              "      <th>review_count</th>\n",
              "      <th>is_open</th>\n",
              "      <th>attributes</th>\n",
              "      <th>categories</th>\n",
              "      <th>hours</th>\n",
              "    </tr>\n",
              "  </thead>\n",
              "  <tbody>\n",
              "    <tr>\n",
              "      <th>0</th>\n",
              "      <td>Pns2l4eNsfO8kk83dixA6A</td>\n",
              "      <td>Abby Rappoport, LAC, CMQ</td>\n",
              "      <td>1616 Chapala St, Ste 2</td>\n",
              "      <td>Santa Barbara</td>\n",
              "      <td>CA</td>\n",
              "      <td>93101</td>\n",
              "      <td>34.426679</td>\n",
              "      <td>-119.711197</td>\n",
              "      <td>5.0</td>\n",
              "      <td>7</td>\n",
              "      <td>False</td>\n",
              "      <td>{'ByAppointmentOnly': 'True'}</td>\n",
              "      <td>Doctors, Traditional Chinese Medicine, Naturop...</td>\n",
              "      <td>None</td>\n",
              "    </tr>\n",
              "    <tr>\n",
              "      <th>1</th>\n",
              "      <td>mpf3x-BjTdTEA3yCZrAYPw</td>\n",
              "      <td>The UPS Store</td>\n",
              "      <td>87 Grasso Plaza Shopping Center</td>\n",
              "      <td>Affton</td>\n",
              "      <td>MO</td>\n",
              "      <td>63123</td>\n",
              "      <td>38.551126</td>\n",
              "      <td>-90.335695</td>\n",
              "      <td>3.0</td>\n",
              "      <td>15</td>\n",
              "      <td>True</td>\n",
              "      <td>{'BusinessAcceptsCreditCards': 'True'}</td>\n",
              "      <td>Shipping Centers, Local Services, Notaries, Ma...</td>\n",
              "      <td>{'Monday': '0:0-0:0', 'Tuesday': '8:0-18:30', ...</td>\n",
              "    </tr>\n",
              "    <tr>\n",
              "      <th>2</th>\n",
              "      <td>tUFrWirKiKi_TAnsVWINQQ</td>\n",
              "      <td>Target</td>\n",
              "      <td>5255 E Broadway Blvd</td>\n",
              "      <td>Tucson</td>\n",
              "      <td>AZ</td>\n",
              "      <td>85711</td>\n",
              "      <td>32.223236</td>\n",
              "      <td>-110.880452</td>\n",
              "      <td>3.5</td>\n",
              "      <td>22</td>\n",
              "      <td>False</td>\n",
              "      <td>{'BikeParking': 'True', 'BusinessAcceptsCredit...</td>\n",
              "      <td>Department Stores, Shopping, Fashion, Home &amp; G...</td>\n",
              "      <td>{'Monday': '8:0-22:0', 'Tuesday': '8:0-22:0', ...</td>\n",
              "    </tr>\n",
              "    <tr>\n",
              "      <th>3</th>\n",
              "      <td>MTSW4McQd7CbVtyjqoe9mw</td>\n",
              "      <td>St Honore Pastries</td>\n",
              "      <td>935 Race St</td>\n",
              "      <td>Philadelphia</td>\n",
              "      <td>PA</td>\n",
              "      <td>19107</td>\n",
              "      <td>39.955505</td>\n",
              "      <td>-75.155564</td>\n",
              "      <td>4.0</td>\n",
              "      <td>80</td>\n",
              "      <td>True</td>\n",
              "      <td>{'RestaurantsDelivery': 'False', 'OutdoorSeati...</td>\n",
              "      <td>Restaurants, Food, Bubble Tea, Coffee &amp; Tea, B...</td>\n",
              "      <td>{'Monday': '7:0-20:0', 'Tuesday': '7:0-20:0', ...</td>\n",
              "    </tr>\n",
              "    <tr>\n",
              "      <th>4</th>\n",
              "      <td>mWMc6_wTdE0EUBKIGXDVfA</td>\n",
              "      <td>Perkiomen Valley Brewery</td>\n",
              "      <td>101 Walnut St</td>\n",
              "      <td>Green Lane</td>\n",
              "      <td>PA</td>\n",
              "      <td>18054</td>\n",
              "      <td>40.338183</td>\n",
              "      <td>-75.471659</td>\n",
              "      <td>4.5</td>\n",
              "      <td>13</td>\n",
              "      <td>True</td>\n",
              "      <td>{'BusinessAcceptsCreditCards': 'True', 'Wheelc...</td>\n",
              "      <td>Brewpubs, Breweries, Food</td>\n",
              "      <td>{'Wednesday': '14:0-22:0', 'Thursday': '16:0-2...</td>\n",
              "    </tr>\n",
              "  </tbody>\n",
              "</table>\n",
              "</div>\n",
              "      <button class=\"colab-df-convert\" onclick=\"convertToInteractive('df-bd532fd3-d8ef-4c67-b0fe-649393ae7efe')\"\n",
              "              title=\"Convert this dataframe to an interactive table.\"\n",
              "              style=\"display:none;\">\n",
              "        \n",
              "  <svg xmlns=\"http://www.w3.org/2000/svg\" height=\"24px\"viewBox=\"0 0 24 24\"\n",
              "       width=\"24px\">\n",
              "    <path d=\"M0 0h24v24H0V0z\" fill=\"none\"/>\n",
              "    <path d=\"M18.56 5.44l.94 2.06.94-2.06 2.06-.94-2.06-.94-.94-2.06-.94 2.06-2.06.94zm-11 1L8.5 8.5l.94-2.06 2.06-.94-2.06-.94L8.5 2.5l-.94 2.06-2.06.94zm10 10l.94 2.06.94-2.06 2.06-.94-2.06-.94-.94-2.06-.94 2.06-2.06.94z\"/><path d=\"M17.41 7.96l-1.37-1.37c-.4-.4-.92-.59-1.43-.59-.52 0-1.04.2-1.43.59L10.3 9.45l-7.72 7.72c-.78.78-.78 2.05 0 2.83L4 21.41c.39.39.9.59 1.41.59.51 0 1.02-.2 1.41-.59l7.78-7.78 2.81-2.81c.8-.78.8-2.07 0-2.86zM5.41 20L4 18.59l7.72-7.72 1.47 1.35L5.41 20z\"/>\n",
              "  </svg>\n",
              "      </button>\n",
              "      \n",
              "  <style>\n",
              "    .colab-df-container {\n",
              "      display:flex;\n",
              "      flex-wrap:wrap;\n",
              "      gap: 12px;\n",
              "    }\n",
              "\n",
              "    .colab-df-convert {\n",
              "      background-color: #E8F0FE;\n",
              "      border: none;\n",
              "      border-radius: 50%;\n",
              "      cursor: pointer;\n",
              "      display: none;\n",
              "      fill: #1967D2;\n",
              "      height: 32px;\n",
              "      padding: 0 0 0 0;\n",
              "      width: 32px;\n",
              "    }\n",
              "\n",
              "    .colab-df-convert:hover {\n",
              "      background-color: #E2EBFA;\n",
              "      box-shadow: 0px 1px 2px rgba(60, 64, 67, 0.3), 0px 1px 3px 1px rgba(60, 64, 67, 0.15);\n",
              "      fill: #174EA6;\n",
              "    }\n",
              "\n",
              "    [theme=dark] .colab-df-convert {\n",
              "      background-color: #3B4455;\n",
              "      fill: #D2E3FC;\n",
              "    }\n",
              "\n",
              "    [theme=dark] .colab-df-convert:hover {\n",
              "      background-color: #434B5C;\n",
              "      box-shadow: 0px 1px 3px 1px rgba(0, 0, 0, 0.15);\n",
              "      filter: drop-shadow(0px 1px 2px rgba(0, 0, 0, 0.3));\n",
              "      fill: #FFFFFF;\n",
              "    }\n",
              "  </style>\n",
              "\n",
              "      <script>\n",
              "        const buttonEl =\n",
              "          document.querySelector('#df-bd532fd3-d8ef-4c67-b0fe-649393ae7efe button.colab-df-convert');\n",
              "        buttonEl.style.display =\n",
              "          google.colab.kernel.accessAllowed ? 'block' : 'none';\n",
              "\n",
              "        async function convertToInteractive(key) {\n",
              "          const element = document.querySelector('#df-bd532fd3-d8ef-4c67-b0fe-649393ae7efe');\n",
              "          const dataTable =\n",
              "            await google.colab.kernel.invokeFunction('convertToInteractive',\n",
              "                                                     [key], {});\n",
              "          if (!dataTable) return;\n",
              "\n",
              "          const docLinkHtml = 'Like what you see? Visit the ' +\n",
              "            '<a target=\"_blank\" href=https://colab.research.google.com/notebooks/data_table.ipynb>data table notebook</a>'\n",
              "            + ' to learn more about interactive tables.';\n",
              "          element.innerHTML = '';\n",
              "          dataTable['output_type'] = 'display_data';\n",
              "          await google.colab.output.renderOutput(dataTable, element);\n",
              "          const docLink = document.createElement('div');\n",
              "          docLink.innerHTML = docLinkHtml;\n",
              "          element.appendChild(docLink);\n",
              "        }\n",
              "      </script>\n",
              "    </div>\n",
              "  </div>\n",
              "  "
            ]
          },
          "metadata": {},
          "execution_count": 19
        }
      ]
    },
    {
      "cell_type": "markdown",
      "source": [
        "Sample the review data"
      ],
      "metadata": {
        "id": "SoiTIlWG_cyl"
      }
    },
    {
      "cell_type": "code",
      "source": [
        "reviews_df.head(5)"
      ],
      "metadata": {
        "id": "AViRqLpTZbG-",
        "colab": {
          "base_uri": "https://localhost:8080/",
          "height": 166
        },
        "outputId": "90ef6e7d-0cec-4173-c540-9e9ff2d1b088"
      },
      "execution_count": 20,
      "outputs": [
        {
          "output_type": "error",
          "ename": "NameError",
          "evalue": "ignored",
          "traceback": [
            "\u001b[0;31m---------------------------------------------------------------------------\u001b[0m",
            "\u001b[0;31mNameError\u001b[0m                                 Traceback (most recent call last)",
            "\u001b[0;32m<ipython-input-20-90c509b62882>\u001b[0m in \u001b[0;36m<module>\u001b[0;34m\u001b[0m\n\u001b[0;32m----> 1\u001b[0;31m \u001b[0mreviews_df\u001b[0m\u001b[0;34m.\u001b[0m\u001b[0mhead\u001b[0m\u001b[0;34m(\u001b[0m\u001b[0;36m5\u001b[0m\u001b[0;34m)\u001b[0m\u001b[0;34m\u001b[0m\u001b[0;34m\u001b[0m\u001b[0m\n\u001b[0m",
            "\u001b[0;31mNameError\u001b[0m: name 'reviews_df' is not defined"
          ]
        }
      ]
    },
    {
      "cell_type": "code",
      "source": [
        "# Join all categories into one large string\n",
        "joint_categories = ', '.join(business_df['categories'].dropna())\n",
        "\n",
        "# Make a list with each separate category as an entry\n",
        "categories = pd.DataFrame(joint_categories.split(', '), columns=['category'])\n",
        "\n",
        "# Get a series count of unique values\n",
        "categories_series = categories.category.value_counts()\n",
        "categories_df = pd.DataFrame(categories_series)\n",
        "\n",
        "# Use default index\n",
        "categories_df.reset_index(inplace=True)\n",
        "\n",
        "# Build plot for visualization\n",
        "plt.figure(figsize=(12,10))\n",
        "categories_axis = sns.barplot(y = 'index', x = 'category', data = categories_df.iloc[0:20], palette='hls')\n",
        "categories_axis.set_ylabel('Category')\n",
        "categories_axis.set_xlabel('Number of businesses')\n",
        "categories_axis.set_title('Number of businesses by category')\n",
        "\n",
        "for p in categories_axis.patches:\n",
        "    categories_axis.annotate(int(p.get_width()),\n",
        "                ((p.get_x() + p.get_width()),\n",
        "                 p.get_y()),\n",
        "                 xytext=(2, -16),\n",
        "                fontsize=16,\n",
        "                color='#00244d',\n",
        "                textcoords='offset points',\n",
        "                horizontalalignment='right')\n",
        " \n",
        "plt.show()   "
      ],
      "metadata": {
        "id": "GWqBcLcGnvyk"
      },
      "execution_count": null,
      "outputs": []
    },
    {
      "cell_type": "markdown",
      "source": [
        "## 3. Get a count of only restaurant- or food-related categories"
      ],
      "metadata": {
        "id": "HjVR5ZrMk5nI"
      }
    },
    {
      "cell_type": "code",
      "source": [
        "related_cats = ['Restaurants', 'Food', 'Bars', 'Sandwiches', 'American (Traditional)', 'Pizza', 'Coffee & Tea', 'Fast Food', 'Breakfast & Brunch', 'American (New)']\n",
        "\n",
        "# Filter for all the related categories\n",
        "related_df = categories.where(lambda category : category.isin(related_cats)).dropna()\n",
        "\n",
        "len(related_df)"
      ],
      "metadata": {
        "id": "Sb7MNRAJqWGr"
      },
      "execution_count": null,
      "outputs": []
    },
    {
      "cell_type": "markdown",
      "source": [
        "## 4. Filter only businesses that are food related"
      ],
      "metadata": {
        "id": "3zg3M2y3MpFX"
      }
    },
    {
      "cell_type": "code",
      "source": [
        "food_businesses = business_df.query(\"categories in @related_cats\")\n",
        "food_businesses.head(5)"
      ],
      "metadata": {
        "id": "XkNnEgn9Mve0"
      },
      "execution_count": null,
      "outputs": []
    },
    {
      "cell_type": "markdown",
      "source": [
        "## 5. Plot review stars count"
      ],
      "metadata": {
        "id": "SZs1xj3WuXU1"
      }
    },
    {
      "cell_type": "code",
      "source": [
        "plt.figure(figsize=(10,7))\n",
        "axis = sns.countplot(x='stars', data = food_businesses, palette='Paired')\n",
        "axis.set_ylabel('Count')\n",
        "axis.set_xlabel('Stars')\n",
        "axis.set_title('Restaurant-related businesses by rating')\n",
        "\n",
        "for p in axis.patches:\n",
        "        width, height = p.get_width(), p.get_height()\n",
        "        x, y = p.get_xy() \n",
        "        axis.text(x+width-.4, \n",
        "                y+height+.3,\n",
        "                '{:.0f}'.format(height),\n",
        "                weight='bold',\n",
        "                horizontalalignment='center')\n",
        "                \n",
        "plt.show()"
      ],
      "metadata": {
        "id": "fQl_s6hJu6D6"
      },
      "execution_count": null,
      "outputs": []
    },
    {
      "cell_type": "markdown",
      "source": [
        "## 6. Filter to see how many of the restaurants are still open "
      ],
      "metadata": {
        "id": "1P8A8VlsTC7i"
      }
    },
    {
      "cell_type": "code",
      "source": [
        "open_businesses = food_businesses.where(food_businesses['is_open'] == True)\n",
        "\n",
        "len(open_businesses)"
      ],
      "metadata": {
        "id": "tR5S_yuUTCqi"
      },
      "execution_count": null,
      "outputs": []
    },
    {
      "cell_type": "markdown",
      "source": [
        "## 7. Breakdown by Top 10 States"
      ],
      "metadata": {
        "id": "vujtO3gtt1XJ"
      }
    },
    {
      "cell_type": "code",
      "source": [
        "top10 = open_businesses['state'].value_counts(ascending=True).tail(10).to_frame()"
      ],
      "metadata": {
        "id": "wfHViW5JuLQ2"
      },
      "execution_count": null,
      "outputs": []
    },
    {
      "cell_type": "code",
      "source": [
        "plt.figure(figsize=(10,7))\n",
        "axis = sns.barplot(x=top10.index,y='state', data=top10, palette='Blues')\n",
        "axis.set_ylabel('Count')\n",
        "axis.set_xlabel('States')\n",
        "axis.set_title('Number of Businesses by State (Top 10)')\n",
        "\n",
        "for patch in axis.patches:\n",
        "        width, height = patch.get_width(), patch.get_height()\n",
        "        x, y = patch.get_xy() \n",
        "        axis.text(x+width-.4, \n",
        "                y+height+0.3,\n",
        "                '{:.0f}'.format(height),\n",
        "                weight='bold',\n",
        "                horizontalalignment='center',\n",
        "                size='medium') \n",
        "                \n",
        "plt.show()"
      ],
      "metadata": {
        "id": "lmjSUxZfuaOh"
      },
      "execution_count": null,
      "outputs": []
    },
    {
      "cell_type": "markdown",
      "source": [
        "### There are more reviews for PA than other States"
      ],
      "metadata": {
        "id": "AdEqLM5sdNdB"
      }
    },
    {
      "cell_type": "markdown",
      "source": [
        "## **8. Perform Sentiment Analysis**"
      ],
      "metadata": {
        "id": "xd2_TwgGdVax"
      }
    },
    {
      "cell_type": "markdown",
      "source": [
        "### Some assumptions to keep in mind\n",
        "\n",
        "1. Negative reviews will be anything from 0 to 3 stars\n",
        "2. Positive reviews will be anything from 4 to 6 stars\n",
        "3. We will work with the a subset of the dataset, a sample of 125k entries\n",
        "4. The expected result will be a dataframe with the review ('text' in the dataset) as well as the 'sentiment' boolean variable"
      ],
      "metadata": {
        "id": "ETpbG2UidbSb"
      }
    },
    {
      "cell_type": "code",
      "source": [
        "# Import libraries\n",
        "import nltk\n",
        "import re, string\n",
        "from nltk.corpus import stopwords\n",
        "from nltk.stem import WordNetLemmatizer\n",
        "from sklearn.model_selection import train_test_split\n",
        "\n",
        "nltk.download('punkt')\n",
        "nltk.download('omw-1.4')\n",
        "nltk.download('wordnet')\n",
        "nltk.download('stopwords')\n",
        "\n",
        "from sklearn.svm import LinearSVC\n",
        "from sklearn.metrics import classification_report\n",
        "from sklearn.feature_extraction.text import TfidfVectorizer\n",
        "from sklearn.feature_extraction.text import CountVectorizer"
      ],
      "metadata": {
        "id": "CsCzQ5Gjhkci"
      },
      "execution_count": null,
      "outputs": []
    },
    {
      "cell_type": "code",
      "source": [
        "# Re-map review stars as 0 (negative) or 1 (positive) as described in the assumptions above\n",
        "\n",
        "reviews_df['sentiment'] = reviews_df['stars'].replace({\n",
        "    1: 0, # negative\n",
        "    2: 0, # negative\n",
        "    3: 0, # negative\n",
        "    4: 1, # positive\n",
        "    5: 1  # positive\n",
        "}).astype(int)"
      ],
      "metadata": {
        "id": "ZVCipKRRdXzY"
      },
      "execution_count": null,
      "outputs": []
    },
    {
      "cell_type": "code",
      "source": [
        "# Sample 125k entries\n",
        "\n",
        "sample_reviews_df = reviews_df.sample(125000).reset_index(drop=True)"
      ],
      "metadata": {
        "id": "xtbseTvde1A8"
      },
      "execution_count": null,
      "outputs": []
    },
    {
      "cell_type": "code",
      "source": [
        "# Create the two columns as described in the assumptions above\n",
        "\n",
        "analysis_df = sample_reviews_df[\n",
        "    ['text', 'sentiment']\n",
        "]\n",
        "\n",
        "analysis_df.head(5)"
      ],
      "metadata": {
        "id": "MGG8y2apfEkf"
      },
      "execution_count": null,
      "outputs": []
    },
    {
      "cell_type": "code",
      "source": [
        "# Convert English contractions into separate words to standardize\n",
        "# For instance: \"wouldn't\" becomes \"would not\"\n",
        "# There is a comprehensive list of contractions accessible at https://www.sjsu.edu/writingcenter/docs/handouts/Contractions.pdf\n",
        "# and a python object can be found at https://stackoverflow.com/questions/19790188/expanding-english-language-contractions-in-python\n",
        "# For purposes of this project, we shall use a simple function to take care of the most common patterns\n",
        "\n",
        "def get_canonized_contractions(word):\n",
        "     word = re.sub(r\"couldn’t\", \"could not\", word)\n",
        "     word = re.sub(r\"wouldn’t\", \"would not\", word)\n",
        "     word = re.sub(r\"won’t\", \"will not\", word)\n",
        "     word = re.sub(r\"can\\’t\", \"can not\", word)\n",
        "     word = re.sub(r\"\\’d\",  \" would\", word)\n",
        "     word = re.sub(r\"\\’ve\", \" have\", word)\n",
        "     word = re.sub(r\"\\’ll\", \" will\", word)\n",
        "     word = re.sub(r\"\\’re\", \" are\", word)\n",
        "     word = re.sub(r\"n\\’t\", \" not\", word)\n",
        "     word = re.sub(r\"\\’t\", \" not\", word)\n",
        "     word = re.sub(r\"\\’m\", \" am\", word)\n",
        "     word = re.sub(r\"\\’s\", \" is\", word)\n",
        "     return word"
      ],
      "metadata": {
        "id": "eQ7rujJRjfNg"
      },
      "execution_count": null,
      "outputs": []
    },
    {
      "cell_type": "code",
      "source": [
        "# Because we will use bag of words, we convert all strings to lower case\n",
        "analysis_df['processed'] = analysis_df['text'].apply(lambda x: ' '.join(x.lower() for x in str(x).split()))\n",
        "\n",
        "# Substitute each contraction in the already lowercase review strings\n",
        "analysis_df['processed'] = analysis_df['processed'].apply(lambda x: get_canonized_contractions(x))\n",
        "\n",
        "# Keep only alphabetical chars\n",
        "alpha = '[^A-Za-z]+'\n",
        "analysis_df['processed'] = analysis_df['processed'].apply(lambda x: ' '.join(\n",
        "    [re.sub(alpha, '', x) for x in nltk.word_tokenize(x)]\n",
        "))\n",
        "\n",
        "# Remove any extra spaces between words\n",
        "analysis_df['processed'] = analysis_df['processed'].apply(lambda x: re.sub(' +', ' ', x))\n",
        "\n",
        "# Remove stop words based on the ones downloaded from nltk\n",
        "stop_words = stopwords.words('english')\n",
        "analysis_df['processed'] = analysis_df['processed'].apply(lambda x: ' '.join(\n",
        "    [x for x in x.split() if x not in stop_words]\n",
        "))\n",
        "\n",
        "# As a final processing step, use a lemmatizer\n",
        "# This will transform words in the following way:\n",
        "# dogs -> dog\n",
        "# abaci -> abacus\n",
        "# churches -> church\n",
        "lemmatizer = WordNetLemmatizer()\n",
        "analysis_df['processed'] = analysis_df['processed'].apply(lambda x: ' '.join(\n",
        "    [lemmatizer.lemmatize(word) for word in nltk.word_tokenize(x)]\n",
        "))"
      ],
      "metadata": {
        "id": "Tgu4apuIfwKX"
      },
      "execution_count": null,
      "outputs": []
    },
    {
      "cell_type": "code",
      "source": [
        "# Separate into A and B for an A/B test\n",
        "\n",
        "A = analysis_df['processed']\n",
        "B = analysis_df['sentiment']\n",
        "\n",
        "# Use sklern to split arrays into random train and test subsets\n",
        "# test_size = the proportion of the dataset to include in the test split\n",
        "# random_state = controls the shuffling applied to the data before applying the split\n",
        "A_train, A_test, B_train, B_test = train_test_split(A, B, test_size=0.2, stratify=B, random_state=45)\n",
        "\n",
        "print('A - Training step shape', A_train.shape)\n",
        "print('A - Test step shape', A_test.shape)\n",
        "\n",
        "print('B - Training step shape', B_train.shape)\n",
        "print('B - Test step shape', B_test.shape)"
      ],
      "metadata": {
        "id": "a3zso6YqjbSh"
      },
      "execution_count": null,
      "outputs": []
    },
    {
      "cell_type": "code",
      "source": [
        "# Convert a collection of raw documents to a matrix of TF-IDF features\n",
        "# that can be used as input to an estimator\n",
        "\n",
        "vectorizer = TfidfVectorizer()\n",
        "tf_A_train = vectorizer.fit_transform(A_train)\n",
        "tf_A_test = vectorizer.transform(A_test)"
      ],
      "metadata": {
        "id": "GOCtzMqEm1PB"
      },
      "execution_count": null,
      "outputs": []
    },
    {
      "cell_type": "code",
      "source": [
        "# Build a report\n",
        "\n",
        "classification = LinearSVC(random_state = 0)\n",
        "\n",
        "# Fit the model according to the given training data\n",
        "classification.fit(tf_A_train, B_train)\n",
        "\n",
        "B_test_prediction = classification.predict(tf_A_test)\n",
        "\n",
        "report = classification_report(B_test, B_test_prediction, output_dict = True)\n",
        "\n",
        "pd.DataFrame(report)"
      ],
      "metadata": {
        "id": "Yaep6inmn34C"
      },
      "execution_count": null,
      "outputs": []
    },
    {
      "cell_type": "markdown",
      "source": [
        "### **8.1 Let's run some tests and evaluations**"
      ],
      "metadata": {
        "id": "ocHGdpLxpAUW"
      }
    },
    {
      "cell_type": "markdown",
      "source": [
        "### Positive Review"
      ],
      "metadata": {
        "id": "iWZOTQJ1qj0k"
      }
    },
    {
      "cell_type": "code",
      "source": [
        "# Positive review from the original dataset\n",
        "\n",
        "analysis_df['text'][1]"
      ],
      "metadata": {
        "id": "8EPbAXRvo_nv"
      },
      "execution_count": null,
      "outputs": []
    },
    {
      "cell_type": "code",
      "source": [
        "# The same positive review, from the processed column\n",
        "\n",
        "analysis_df['processed'][1]"
      ],
      "metadata": {
        "id": "ukEf5pjwpQ34"
      },
      "execution_count": null,
      "outputs": []
    },
    {
      "cell_type": "markdown",
      "source": [
        "Notice the stop words are gone and the main words stay\n",
        "\n",
        "---\n",
        "\n"
      ],
      "metadata": {
        "id": "78bHL74tpeZD"
      }
    },
    {
      "cell_type": "code",
      "source": [
        "positive_review = analysis_df['processed'][1]\n",
        "\n",
        "positive_review_transformed = vectorizer.transform([positive_review])\n",
        "\n",
        "positive_review_prediction = classification.predict(positive_review_transformed)\n",
        "\n",
        "positive_review_prediction"
      ],
      "metadata": {
        "id": "7_E7q1htpnAK"
      },
      "execution_count": null,
      "outputs": []
    },
    {
      "cell_type": "markdown",
      "source": [
        "**The value '1' means we predicted positive, which is correct**"
      ],
      "metadata": {
        "id": "FfZoYVpTqeKF"
      }
    },
    {
      "cell_type": "markdown",
      "source": [
        "### Custom Positive Review"
      ],
      "metadata": {
        "id": "qna-qL_VrXYj"
      }
    },
    {
      "cell_type": "code",
      "source": [
        "# Very positive\n",
        "\n",
        "custom_pos_review = '''\n",
        "Excellent soondubu jjigae I had many coworkers from Korea recommend this restaurant, so that is how you know it is legit. I had pretty high expectations. \n",
        "I decided to try out their not spicy option. This is my first time ever trying soft tofu soup without any gochujang. It is definitely on the more salty and savory side.\n",
        "I got the seafood one (Haemul) and it came with squid, mini mussels, tiny shrimp, and one prawn. Not a ton of seafood.\n",
        "The soup was definitely dominated by the silken tofu, but that is how I prefer it. Of the side dishes, the pickled radish was my favorite.\n",
        "Normally I see this served with fried chicken, so I was pretty delighted to see it and it was cut into strips. The kimchi was tasty, but more spicy than your typical kimchi.\n",
        "'''\n",
        "\n",
        "custom_pos_review_transformed = vectorizer.transform([custom_pos_review])\n",
        "\n",
        "custom_pos_review_prediction = classification.predict(custom_pos_review_transformed)\n",
        "\n",
        "custom_pos_review_prediction"
      ],
      "metadata": {
        "id": "uyHeyMkDsAGM"
      },
      "execution_count": null,
      "outputs": []
    },
    {
      "cell_type": "markdown",
      "source": [
        "**The value '1' means we predicted positive, which is correct**"
      ],
      "metadata": {
        "id": "Al9OJ8EGs1Mn"
      }
    },
    {
      "cell_type": "code",
      "source": [
        "# Dubiously positive (4 stars or more)\n",
        "\n",
        "custom_pos_review = '''\n",
        "Fish and chips for $10.50 in the bay area. I can't complain.\n",
        "Just across the street there is a disgusting seafood restaurant.\n",
        "They don't seem to even wash their hands, and seafood is not fresh.\n",
        "But this place lives up to the expectations. Good food, gotta love it\n",
        "'''\n",
        "\n",
        "custom_pos_review_transformed = vectorizer.transform([custom_pos_review])\n",
        "\n",
        "custom_pos_review_prediction = classification.predict(custom_pos_review_transformed)\n",
        "\n",
        "custom_pos_review_prediction"
      ],
      "metadata": {
        "id": "GnXJJ2gvty2u"
      },
      "execution_count": null,
      "outputs": []
    },
    {
      "cell_type": "markdown",
      "source": [
        "**The value '1' means we predicted positive, which is correct**"
      ],
      "metadata": {
        "id": "cIxQn03rvTBo"
      }
    },
    {
      "cell_type": "markdown",
      "source": [
        "### Negative Review"
      ],
      "metadata": {
        "id": "ZrGBinPTqmgo"
      }
    },
    {
      "cell_type": "code",
      "source": [
        "# Negative review from the original dataset\n",
        "\n",
        "analysis_df['text'][6]"
      ],
      "metadata": {
        "id": "UAdlLR31qoYL"
      },
      "execution_count": null,
      "outputs": []
    },
    {
      "cell_type": "code",
      "source": [
        "# The same negative review, from the processed column\n",
        "\n",
        "analysis_df['processed'][6]"
      ],
      "metadata": {
        "id": "8vmYVW1-q1Xx",
        "colab": {
          "base_uri": "https://localhost:8080/",
          "height": 201
        },
        "outputId": "393e3109-8947-4fcf-eff9-fb525f738a39"
      },
      "execution_count": 21,
      "outputs": [
        {
          "output_type": "error",
          "ename": "NameError",
          "evalue": "ignored",
          "traceback": [
            "\u001b[0;31m---------------------------------------------------------------------------\u001b[0m",
            "\u001b[0;31mNameError\u001b[0m                                 Traceback (most recent call last)",
            "\u001b[0;32m<ipython-input-21-f31f833b1bed>\u001b[0m in \u001b[0;36m<module>\u001b[0;34m\u001b[0m\n\u001b[1;32m      1\u001b[0m \u001b[0;31m# The same negative review, from the processed column\u001b[0m\u001b[0;34m\u001b[0m\u001b[0;34m\u001b[0m\u001b[0;34m\u001b[0m\u001b[0m\n\u001b[1;32m      2\u001b[0m \u001b[0;34m\u001b[0m\u001b[0m\n\u001b[0;32m----> 3\u001b[0;31m \u001b[0manalysis_df\u001b[0m\u001b[0;34m[\u001b[0m\u001b[0;34m'processed'\u001b[0m\u001b[0;34m]\u001b[0m\u001b[0;34m[\u001b[0m\u001b[0;36m6\u001b[0m\u001b[0;34m]\u001b[0m\u001b[0;34m\u001b[0m\u001b[0;34m\u001b[0m\u001b[0m\n\u001b[0m",
            "\u001b[0;31mNameError\u001b[0m: name 'analysis_df' is not defined"
          ]
        }
      ]
    },
    {
      "cell_type": "code",
      "source": [
        "negative_review = analysis_df['processed'][1]\n",
        "\n",
        "negative_review_transformed = vectorizer.transform([negative_review])\n",
        "\n",
        "negative_review_prediction = classification.predict(negative_review_transformed)\n",
        "\n",
        "negative_review_prediction"
      ],
      "metadata": {
        "id": "64bqF7NXq_0z"
      },
      "execution_count": null,
      "outputs": []
    },
    {
      "cell_type": "markdown",
      "source": [
        "**The value '1' means we predicted positive, which is incorrect**\n",
        "\n"
      ],
      "metadata": {
        "id": "zW831uXQrO8L"
      }
    },
    {
      "cell_type": "markdown",
      "source": [
        "### Custom Negative Review"
      ],
      "metadata": {
        "id": "E9KF1vI3rbGk"
      }
    },
    {
      "cell_type": "code",
      "source": [
        "# Very negative\n",
        "\n",
        "custom_negative_review = '''\n",
        "I was highly disappointed on my last visit there last night.\n",
        "May have a talk with the manager. Use to love this place.\n",
        "Now thinking I don't need to go here again. They were very busy.\n",
        "Very disorganized and need stronger management leadership.\n",
        "Food was overcooked and Very Small portions.\n",
        "Added roasted asparagus for $3 and only got 3 stocks!\n",
        "Just overall a bad experience.\n",
        "'''\n",
        "\n",
        "custom_negative_review_transformed = vectorizer.transform([custom_negative_review])\n",
        "\n",
        "custom_negative_review_prediction = classification.predict(custom_negative_review_transformed)\n",
        "\n",
        "custom_negative_review_prediction"
      ],
      "metadata": {
        "id": "vP1qsmvGs7gA"
      },
      "execution_count": null,
      "outputs": []
    },
    {
      "cell_type": "markdown",
      "source": [
        "**The value '0' means we predicted negative, which is correct**\n"
      ],
      "metadata": {
        "id": "Iptqjfpjtm13"
      }
    },
    {
      "cell_type": "code",
      "source": [
        "# Dubiously negative (less than 3 stars)\n",
        "\n",
        "custom_negative_review = '''\n",
        "Updated my reviews. Food is still good. But they keep missing side orders.\n",
        "At least twice this happened to me. It's annoying but I keep coming anyway\n",
        "'''\n",
        "\n",
        "custom_negative_review_transformed = vectorizer.transform([custom_negative_review])\n",
        "\n",
        "custom_negative_review_prediction = classification.predict(custom_negative_review_transformed)\n",
        "\n",
        "custom_negative_review_prediction"
      ],
      "metadata": {
        "id": "B9HOumQ4tQHc"
      },
      "execution_count": null,
      "outputs": []
    },
    {
      "cell_type": "markdown",
      "source": [
        "**The value '0' means we predicted negative, which is correct**\n"
      ],
      "metadata": {
        "id": "-p7kYyj0uKiY"
      }
    },
    {
      "cell_type": "markdown",
      "source": [
        "### Custom Neutral Review"
      ],
      "metadata": {
        "id": "vdVzn41QwHDh"
      }
    },
    {
      "cell_type": "code",
      "source": [
        "# Neutral\n",
        "\n",
        "custom_neutral_review = '''\n",
        "This place is alright. Price is okay and food is normal. Not bad, not great. Service is pretty good though.\n",
        "'''\n",
        "\n",
        "custom_neutral_review_transformed = vectorizer.transform([custom_neutral_review])\n",
        "\n",
        "custom_neutral_review_prediction = classification.predict(custom_neutral_review_transformed)\n",
        "\n",
        "custom_neutral_review_prediction"
      ],
      "metadata": {
        "id": "rZCcDdJdwJCP"
      },
      "execution_count": null,
      "outputs": []
    },
    {
      "cell_type": "markdown",
      "source": [
        "Although it was neutral leaning towards positive, the model predicted '0' negative"
      ],
      "metadata": {
        "id": "9K5FBPS1wd9B"
      }
    },
    {
      "cell_type": "markdown",
      "source": [
        "## Analysis\n",
        "\n",
        "\n"
      ],
      "metadata": {
        "id": "aa7uXnDQvrLc"
      }
    },
    {
      "cell_type": "code",
      "source": [
        "pd.DataFrame(report)"
      ],
      "metadata": {
        "id": "w4faxqMev4e0"
      },
      "execution_count": null,
      "outputs": []
    },
    {
      "cell_type": "markdown",
      "source": [
        "1.  This model has accuracy of ~92%\n",
        "\n",
        "2.  Negative reviews were more difficult to predict\n",
        "\n",
        "    Positive - 93% accuracy\n",
        "\n",
        "    Negative - 89% accuracy\n",
        "\n",
        "3. This model accurately predicted 2 custom positive reviews, and 1 negative review, and tends to lean towards negative given a neutral review"
      ],
      "metadata": {
        "id": "f0dxFYqxv8uk"
      }
    },
    {
      "cell_type": "markdown",
      "source": [
        "# 9. Environment take down\n"
      ],
      "metadata": {
        "id": "AQmUIfF0wJjB"
      }
    },
    {
      "cell_type": "code",
      "source": [
        "# Uncomment and run the code below to remove downloaded files from the environment\n",
        "\n",
        "# !rm yelp_businesses.json\n",
        "# !rm yelp_reviews.json"
      ],
      "metadata": {
        "id": "yXwahrSLwP8k"
      },
      "execution_count": null,
      "outputs": []
    }
  ]
}